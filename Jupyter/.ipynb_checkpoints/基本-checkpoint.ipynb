{
 "cells": [
  {
   "cell_type": "code",
   "execution_count": 1,
   "metadata": {},
   "outputs": [],
   "source": [
    "# 导入 pandas 库\n",
    "import pandas as pd"
   ]
  },
  {
   "cell_type": "code",
   "execution_count": 2,
   "metadata": {},
   "outputs": [
    {
     "data": {
      "text/plain": [
       "0    赵\n",
       "1    钱\n",
       "2    孙\n",
       "3    李\n",
       "dtype: object"
      ]
     },
     "execution_count": 2,
     "metadata": {},
     "output_type": "execute_result"
    }
   ],
   "source": [
    "# 创建 Series 对象\n",
    "surname = pd.Series(['赵', '钱', '孙', '李'])\n",
    "# 查看surname\n",
    "surname"
   ]
  },
  {
   "cell_type": "code",
   "execution_count": 3,
   "metadata": {},
   "outputs": [
    {
     "data": {
      "text/plain": [
       "学生1    赵\n",
       "学生2    钱\n",
       "学生3    孙\n",
       "学生4    李\n",
       "dtype: object"
      ]
     },
     "execution_count": 3,
     "metadata": {},
     "output_type": "execute_result"
    }
   ],
   "source": [
    "# 创建 Series 对象 人爲設定索引\n",
    "surname = pd.Series(['赵', '钱', '孙', '李'], index = ['学生1', '学生2', '学生3', '学生4'])\n",
    "# 查看surname\n",
    "surname"
   ]
  },
  {
   "cell_type": "code",
   "execution_count": 4,
   "metadata": {},
   "outputs": [
    {
     "data": {
      "text/plain": [
       "0    梅西\n",
       "1    罗本\n",
       "2    C罗\n",
       "dtype: object"
      ]
     },
     "execution_count": 4,
     "metadata": {},
     "output_type": "execute_result"
    }
   ],
   "source": [
    "# 创建 Series 对象\n",
    "players = pd.Series(['梅西','罗本','C罗'])\n",
    "# 查看 players\n",
    "players"
   ]
  },
  {
   "cell_type": "code",
   "execution_count": 5,
   "metadata": {},
   "outputs": [
    {
     "data": {
      "text/plain": [
       "0    1\n",
       "1    2\n",
       "dtype: int32"
      ]
     },
     "execution_count": 5,
     "metadata": {},
     "output_type": "execute_result"
    }
   ],
   "source": [
    "# n維數組\n",
    "import numpy as np\n",
    "array = pd.Series(np.array([1,2]))\n",
    "array"
   ]
  },
  {
   "cell_type": "code",
   "execution_count": 6,
   "metadata": {},
   "outputs": [
    {
     "data": {
      "text/plain": [
       "0    6\n",
       "1    8\n",
       "2    5\n",
       "3    7\n",
       "dtype: int64"
      ]
     },
     "execution_count": 6,
     "metadata": {},
     "output_type": "execute_result"
    }
   ],
   "source": [
    "# Series對象下列表相加方法\n",
    "# 创建两个原始列表\n",
    "temp_list1 = [1, 2, 3, 4]\n",
    "temp_list2 = [5, 6, 2, 3]\n",
    "# 创建新的 Series 对象\n",
    "temps = pd.Series(temp_list1)+pd.Series(temp_list2)\n",
    "temps"
   ]
  },
  {
   "cell_type": "code",
   "execution_count": 7,
   "metadata": {},
   "outputs": [
    {
     "data": {
      "text/html": [
       "<div>\n",
       "<style scoped>\n",
       "    .dataframe tbody tr th:only-of-type {\n",
       "        vertical-align: middle;\n",
       "    }\n",
       "\n",
       "    .dataframe tbody tr th {\n",
       "        vertical-align: top;\n",
       "    }\n",
       "\n",
       "    .dataframe thead th {\n",
       "        text-align: right;\n",
       "    }\n",
       "</style>\n",
       "<table border=\"1\" class=\"dataframe\">\n",
       "  <thead>\n",
       "    <tr style=\"text-align: right;\">\n",
       "      <th></th>\n",
       "      <th>年龄</th>\n",
       "      <th>岗位</th>\n",
       "      <th>年购买量</th>\n",
       "    </tr>\n",
       "  </thead>\n",
       "  <tbody>\n",
       "    <tr>\n",
       "      <th>0</th>\n",
       "      <td>23</td>\n",
       "      <td>客服</td>\n",
       "      <td>10</td>\n",
       "    </tr>\n",
       "    <tr>\n",
       "      <th>1</th>\n",
       "      <td>22</td>\n",
       "      <td>运营</td>\n",
       "      <td>15</td>\n",
       "    </tr>\n",
       "    <tr>\n",
       "      <th>2</th>\n",
       "      <td>21</td>\n",
       "      <td>公关</td>\n",
       "      <td>8</td>\n",
       "    </tr>\n",
       "  </tbody>\n",
       "</table>\n",
       "</div>"
      ],
      "text/plain": [
       "   年龄  岗位  年购买量\n",
       "0  23  客服    10\n",
       "1  22  运营    15\n",
       "2  21  公关     8"
      ]
     },
     "execution_count": 7,
     "metadata": {},
     "output_type": "execute_result"
    }
   ],
   "source": [
    "# 创建 DataFrame 对象，鍵值長度要相等\n",
    "new_df = pd.DataFrame({'年龄': [23, 22, 21],\n",
    "                       '岗位': ['客服', '运营', '公关'],\n",
    "                       '年购买量': [10, 15, 8]})\n",
    "# 查看 new_df\n",
    "new_df"
   ]
  },
  {
   "cell_type": "code",
   "execution_count": 8,
   "metadata": {},
   "outputs": [
    {
     "data": {
      "text/html": [
       "<div>\n",
       "<style scoped>\n",
       "    .dataframe tbody tr th:only-of-type {\n",
       "        vertical-align: middle;\n",
       "    }\n",
       "\n",
       "    .dataframe tbody tr th {\n",
       "        vertical-align: top;\n",
       "    }\n",
       "\n",
       "    .dataframe thead th {\n",
       "        text-align: right;\n",
       "    }\n",
       "</style>\n",
       "<table border=\"1\" class=\"dataframe\">\n",
       "  <thead>\n",
       "    <tr style=\"text-align: right;\">\n",
       "      <th></th>\n",
       "      <th>年龄</th>\n",
       "      <th>性别</th>\n",
       "    </tr>\n",
       "  </thead>\n",
       "  <tbody>\n",
       "    <tr>\n",
       "      <th>0</th>\n",
       "      <td>25</td>\n",
       "      <td>女</td>\n",
       "    </tr>\n",
       "    <tr>\n",
       "      <th>1</th>\n",
       "      <td>18</td>\n",
       "      <td>女</td>\n",
       "    </tr>\n",
       "    <tr>\n",
       "      <th>2</th>\n",
       "      <td>23</td>\n",
       "      <td>女</td>\n",
       "    </tr>\n",
       "    <tr>\n",
       "      <th>3</th>\n",
       "      <td>18</td>\n",
       "      <td>男</td>\n",
       "    </tr>\n",
       "  </tbody>\n",
       "</table>\n",
       "</div>"
      ],
      "text/plain": [
       "   年龄 性别\n",
       "0  25  女\n",
       "1  18  女\n",
       "2  23  女\n",
       "3  18  男"
      ]
     },
     "execution_count": 8,
     "metadata": {},
     "output_type": "execute_result"
    }
   ],
   "source": [
    "# 创建 DataFrame 对象\n",
    "class_df = pd.DataFrame({'年龄': [25, 18, 23, 18],\n",
    "                         '性别': ['女', '女', '女', '男']})\n",
    "# 查看 class_df\n",
    "class_df"
   ]
  },
  {
   "cell_type": "code",
   "execution_count": 9,
   "metadata": {},
   "outputs": [
    {
     "data": {
      "text/html": [
       "<div>\n",
       "<style scoped>\n",
       "    .dataframe tbody tr th:only-of-type {\n",
       "        vertical-align: middle;\n",
       "    }\n",
       "\n",
       "    .dataframe tbody tr th {\n",
       "        vertical-align: top;\n",
       "    }\n",
       "\n",
       "    .dataframe thead th {\n",
       "        text-align: right;\n",
       "    }\n",
       "</style>\n",
       "<table border=\"1\" class=\"dataframe\">\n",
       "  <thead>\n",
       "    <tr style=\"text-align: right;\">\n",
       "      <th></th>\n",
       "      <th>年龄</th>\n",
       "      <th>性别</th>\n",
       "    </tr>\n",
       "  </thead>\n",
       "  <tbody>\n",
       "    <tr>\n",
       "      <th>1</th>\n",
       "      <td>25</td>\n",
       "      <td>女</td>\n",
       "    </tr>\n",
       "    <tr>\n",
       "      <th>2</th>\n",
       "      <td>18</td>\n",
       "      <td>女</td>\n",
       "    </tr>\n",
       "    <tr>\n",
       "      <th>3</th>\n",
       "      <td>23</td>\n",
       "      <td>女</td>\n",
       "    </tr>\n",
       "    <tr>\n",
       "      <th>4</th>\n",
       "      <td>18</td>\n",
       "      <td>男</td>\n",
       "    </tr>\n",
       "  </tbody>\n",
       "</table>\n",
       "</div>"
      ],
      "text/plain": [
       "   年龄 性别\n",
       "1  25  女\n",
       "2  18  女\n",
       "3  23  女\n",
       "4  18  男"
      ]
     },
     "execution_count": 9,
     "metadata": {},
     "output_type": "execute_result"
    }
   ],
   "source": [
    "# 以n維數組的形式\n",
    "class_df2 = pd.DataFrame(np.array([[25, '女'],\n",
    "                                   [18, '女'],\n",
    "                                   [23, '女'],\n",
    "                                   [18, '男']]),\n",
    "                         columns = ['年龄', '性别'],\n",
    "                         index = [1, 2, 3, 4])\n",
    "# 查看 class_df2\n",
    "class_df2"
   ]
  },
  {
   "cell_type": "code",
   "execution_count": 10,
   "metadata": {},
   "outputs": [
    {
     "data": {
      "text/plain": [
       "0    25\n",
       "1    18\n",
       "2    23\n",
       "3    18\n",
       "Name: 年龄, dtype: int64"
      ]
     },
     "execution_count": 10,
     "metadata": {},
     "output_type": "execute_result"
    }
   ],
   "source": [
    "# 提取'年龄'这一列数据\n",
    "class_df['年龄']"
   ]
  },
  {
   "cell_type": "code",
   "execution_count": 11,
   "metadata": {},
   "outputs": [
    {
     "data": {
      "text/plain": [
       "pandas.core.series.Series"
      ]
     },
     "execution_count": 11,
     "metadata": {},
     "output_type": "execute_result"
    }
   ],
   "source": [
    "# 查看'年龄'这一列数据的类型\n",
    "type(class_df['年龄'])"
   ]
  },
  {
   "cell_type": "code",
   "execution_count": 12,
   "metadata": {},
   "outputs": [],
   "source": [
    "# 导入 csv 数据\n",
    "my_data = pd.read_csv('mask_data.csv', encoding = 'utf-8')"
   ]
  },
  {
   "cell_type": "code",
   "execution_count": 13,
   "metadata": {},
   "outputs": [
    {
     "data": {
      "text/html": [
       "<div>\n",
       "<style scoped>\n",
       "    .dataframe tbody tr th:only-of-type {\n",
       "        vertical-align: middle;\n",
       "    }\n",
       "\n",
       "    .dataframe tbody tr th {\n",
       "        vertical-align: top;\n",
       "    }\n",
       "\n",
       "    .dataframe thead th {\n",
       "        text-align: right;\n",
       "    }\n",
       "</style>\n",
       "<table border=\"1\" class=\"dataframe\">\n",
       "  <thead>\n",
       "    <tr style=\"text-align: right;\">\n",
       "      <th></th>\n",
       "      <th>订单编号</th>\n",
       "      <th>日期</th>\n",
       "      <th>省</th>\n",
       "      <th>订单量</th>\n",
       "      <th>单价</th>\n",
       "      <th>销售额</th>\n",
       "    </tr>\n",
       "  </thead>\n",
       "  <tbody>\n",
       "    <tr>\n",
       "      <th>0</th>\n",
       "      <td>87af-48e5-8bed-c5dcf9ecc172</td>\n",
       "      <td>2020-01-01</td>\n",
       "      <td>广东</td>\n",
       "      <td>0.0</td>\n",
       "      <td>30.0</td>\n",
       "      <td>0.0</td>\n",
       "    </tr>\n",
       "    <tr>\n",
       "      <th>1</th>\n",
       "      <td>535a-4eca-8fa0-9cc54c66e11d</td>\n",
       "      <td>2020-01-01</td>\n",
       "      <td>河南</td>\n",
       "      <td>0.0</td>\n",
       "      <td>30.0</td>\n",
       "      <td>0.0</td>\n",
       "    </tr>\n",
       "    <tr>\n",
       "      <th>2</th>\n",
       "      <td>a56d-4415-ad6e-020cdb154c35</td>\n",
       "      <td>2020-01-01</td>\n",
       "      <td>湖北</td>\n",
       "      <td>1.0</td>\n",
       "      <td>30.0</td>\n",
       "      <td>30.0</td>\n",
       "    </tr>\n",
       "    <tr>\n",
       "      <th>3</th>\n",
       "      <td>535a-4eca-8fa0-9cc54c66e11d</td>\n",
       "      <td>2020-01-01</td>\n",
       "      <td>河南</td>\n",
       "      <td>0.0</td>\n",
       "      <td>30.0</td>\n",
       "      <td>0.0</td>\n",
       "    </tr>\n",
       "    <tr>\n",
       "      <th>4</th>\n",
       "      <td>535a-4eca-8fa0-9cc54c66e11d</td>\n",
       "      <td>2020-01-01</td>\n",
       "      <td>河南</td>\n",
       "      <td>0.0</td>\n",
       "      <td>30.0</td>\n",
       "      <td>0.0</td>\n",
       "    </tr>\n",
       "    <tr>\n",
       "      <th>...</th>\n",
       "      <td>...</td>\n",
       "      <td>...</td>\n",
       "      <td>...</td>\n",
       "      <td>...</td>\n",
       "      <td>...</td>\n",
       "      <td>...</td>\n",
       "    </tr>\n",
       "    <tr>\n",
       "      <th>101937</th>\n",
       "      <td>6339-43f4-a12b-7b57d1ce3a48</td>\n",
       "      <td>NaN</td>\n",
       "      <td>NaN</td>\n",
       "      <td>NaN</td>\n",
       "      <td>NaN</td>\n",
       "      <td>NaN</td>\n",
       "    </tr>\n",
       "    <tr>\n",
       "      <th>101938</th>\n",
       "      <td>5e43-41c2-8696-fd5909cc98a4</td>\n",
       "      <td>NaN</td>\n",
       "      <td>NaN</td>\n",
       "      <td>999999999.0</td>\n",
       "      <td>999999999.0</td>\n",
       "      <td>999999999.0</td>\n",
       "    </tr>\n",
       "    <tr>\n",
       "      <th>101939</th>\n",
       "      <td>824c-4f2b-af43-038938d2db46</td>\n",
       "      <td>NaN</td>\n",
       "      <td>NaN</td>\n",
       "      <td>999999999.0</td>\n",
       "      <td>999999999.0</td>\n",
       "      <td>999999999.0</td>\n",
       "    </tr>\n",
       "    <tr>\n",
       "      <th>101940</th>\n",
       "      <td>1cf0-483a-ab11-0cebc6406c78</td>\n",
       "      <td>NaN</td>\n",
       "      <td>NaN</td>\n",
       "      <td>0.0</td>\n",
       "      <td>NaN</td>\n",
       "      <td>0.0</td>\n",
       "    </tr>\n",
       "    <tr>\n",
       "      <th>101941</th>\n",
       "      <td>8318-43df-9d34-0656d9eb759a</td>\n",
       "      <td>NaN</td>\n",
       "      <td>NaN</td>\n",
       "      <td>0.0</td>\n",
       "      <td>NaN</td>\n",
       "      <td>0.0</td>\n",
       "    </tr>\n",
       "  </tbody>\n",
       "</table>\n",
       "<p>101942 rows × 6 columns</p>\n",
       "</div>"
      ],
      "text/plain": [
       "                               订单编号          日期    省          订单量  \\\n",
       "0       87af-48e5-8bed-c5dcf9ecc172  2020-01-01   广东          0.0   \n",
       "1       535a-4eca-8fa0-9cc54c66e11d  2020-01-01   河南          0.0   \n",
       "2       a56d-4415-ad6e-020cdb154c35  2020-01-01   湖北          1.0   \n",
       "3       535a-4eca-8fa0-9cc54c66e11d  2020-01-01   河南          0.0   \n",
       "4       535a-4eca-8fa0-9cc54c66e11d  2020-01-01   河南          0.0   \n",
       "...                             ...         ...  ...          ...   \n",
       "101937  6339-43f4-a12b-7b57d1ce3a48         NaN  NaN          NaN   \n",
       "101938  5e43-41c2-8696-fd5909cc98a4         NaN  NaN  999999999.0   \n",
       "101939  824c-4f2b-af43-038938d2db46         NaN  NaN  999999999.0   \n",
       "101940  1cf0-483a-ab11-0cebc6406c78         NaN  NaN          0.0   \n",
       "101941  8318-43df-9d34-0656d9eb759a         NaN  NaN          0.0   \n",
       "\n",
       "                 单价          销售额  \n",
       "0              30.0          0.0  \n",
       "1              30.0          0.0  \n",
       "2              30.0         30.0  \n",
       "3              30.0          0.0  \n",
       "4              30.0          0.0  \n",
       "...             ...          ...  \n",
       "101937          NaN          NaN  \n",
       "101938  999999999.0  999999999.0  \n",
       "101939  999999999.0  999999999.0  \n",
       "101940          NaN          0.0  \n",
       "101941          NaN          0.0  \n",
       "\n",
       "[101942 rows x 6 columns]"
      ]
     },
     "execution_count": 13,
     "metadata": {},
     "output_type": "execute_result"
    }
   ],
   "source": [
    "my_data"
   ]
  },
  {
   "cell_type": "code",
   "execution_count": 14,
   "metadata": {},
   "outputs": [
    {
     "data": {
      "text/html": [
       "<div>\n",
       "<style scoped>\n",
       "    .dataframe tbody tr th:only-of-type {\n",
       "        vertical-align: middle;\n",
       "    }\n",
       "\n",
       "    .dataframe tbody tr th {\n",
       "        vertical-align: top;\n",
       "    }\n",
       "\n",
       "    .dataframe thead th {\n",
       "        text-align: right;\n",
       "    }\n",
       "</style>\n",
       "<table border=\"1\" class=\"dataframe\">\n",
       "  <thead>\n",
       "    <tr style=\"text-align: right;\">\n",
       "      <th></th>\n",
       "      <th>客户姓名</th>\n",
       "      <th>渠道</th>\n",
       "      <th>日期</th>\n",
       "      <th>客户年龄</th>\n",
       "      <th>保险类别</th>\n",
       "      <th>保单金额</th>\n",
       "    </tr>\n",
       "  </thead>\n",
       "  <tbody>\n",
       "    <tr>\n",
       "      <th>0</th>\n",
       "      <td>张三</td>\n",
       "      <td>传统保险代理</td>\n",
       "      <td>1/1/2020</td>\n",
       "      <td>25</td>\n",
       "      <td>医疗</td>\n",
       "      <td>500</td>\n",
       "    </tr>\n",
       "    <tr>\n",
       "      <th>1</th>\n",
       "      <td>李四</td>\n",
       "      <td>电销</td>\n",
       "      <td>2/2/2020</td>\n",
       "      <td>34</td>\n",
       "      <td>医疗</td>\n",
       "      <td>600</td>\n",
       "    </tr>\n",
       "    <tr>\n",
       "      <th>2</th>\n",
       "      <td>王五</td>\n",
       "      <td>银行</td>\n",
       "      <td>3/3/2020</td>\n",
       "      <td>37</td>\n",
       "      <td>重疾</td>\n",
       "      <td>800</td>\n",
       "    </tr>\n",
       "    <tr>\n",
       "      <th>3</th>\n",
       "      <td>钱海</td>\n",
       "      <td>保险中介平台</td>\n",
       "      <td>2/4/2020</td>\n",
       "      <td>65</td>\n",
       "      <td>人寿</td>\n",
       "      <td>50000</td>\n",
       "    </tr>\n",
       "    <tr>\n",
       "      <th>4</th>\n",
       "      <td>刘月</td>\n",
       "      <td>传统保险代理</td>\n",
       "      <td>3/5/2020</td>\n",
       "      <td>45</td>\n",
       "      <td>重疾</td>\n",
       "      <td>20000</td>\n",
       "    </tr>\n",
       "    <tr>\n",
       "      <th>5</th>\n",
       "      <td>曹烈</td>\n",
       "      <td>电销</td>\n",
       "      <td>4/6/2020</td>\n",
       "      <td>40</td>\n",
       "      <td>意外</td>\n",
       "      <td>30000</td>\n",
       "    </tr>\n",
       "    <tr>\n",
       "      <th>6</th>\n",
       "      <td>王刚</td>\n",
       "      <td>银行</td>\n",
       "      <td>5/1/2020</td>\n",
       "      <td>23</td>\n",
       "      <td>医疗</td>\n",
       "      <td>300</td>\n",
       "    </tr>\n",
       "    <tr>\n",
       "      <th>7</th>\n",
       "      <td>李洪</td>\n",
       "      <td>电销</td>\n",
       "      <td>6/2/2020</td>\n",
       "      <td>35</td>\n",
       "      <td>医疗</td>\n",
       "      <td>400</td>\n",
       "    </tr>\n",
       "    <tr>\n",
       "      <th>8</th>\n",
       "      <td>蓝洋</td>\n",
       "      <td>传统保险代理</td>\n",
       "      <td>7/3/2020</td>\n",
       "      <td>67</td>\n",
       "      <td>重疾</td>\n",
       "      <td>50000</td>\n",
       "    </tr>\n",
       "    <tr>\n",
       "      <th>9</th>\n",
       "      <td>刘峰</td>\n",
       "      <td>传统保险代理</td>\n",
       "      <td>8/4/2020</td>\n",
       "      <td>65</td>\n",
       "      <td>重疾</td>\n",
       "      <td>30000</td>\n",
       "    </tr>\n",
       "    <tr>\n",
       "      <th>10</th>\n",
       "      <td>李泉</td>\n",
       "      <td>传统保险代理</td>\n",
       "      <td>9/5/2020</td>\n",
       "      <td>34</td>\n",
       "      <td>教育</td>\n",
       "      <td>100000</td>\n",
       "    </tr>\n",
       "    <tr>\n",
       "      <th>11</th>\n",
       "      <td>张敏</td>\n",
       "      <td>保险中介平台</td>\n",
       "      <td>10/6/2020</td>\n",
       "      <td>56</td>\n",
       "      <td>重疾</td>\n",
       "      <td>30000</td>\n",
       "    </tr>\n",
       "    <tr>\n",
       "      <th>12</th>\n",
       "      <td>梁幸</td>\n",
       "      <td>保险中介平台</td>\n",
       "      <td>11/6/2020</td>\n",
       "      <td>75</td>\n",
       "      <td>人寿</td>\n",
       "      <td>60000</td>\n",
       "    </tr>\n",
       "  </tbody>\n",
       "</table>\n",
       "</div>"
      ],
      "text/plain": [
       "   客户姓名      渠道         日期  客户年龄 保险类别    保单金额\n",
       "0    张三  传统保险代理   1/1/2020    25   医疗     500\n",
       "1    李四      电销   2/2/2020    34   医疗     600\n",
       "2    王五      银行   3/3/2020    37   重疾     800\n",
       "3    钱海  保险中介平台   2/4/2020    65   人寿   50000\n",
       "4    刘月  传统保险代理   3/5/2020    45   重疾   20000\n",
       "5    曹烈      电销   4/6/2020    40   意外   30000\n",
       "6    王刚      银行   5/1/2020    23   医疗     300\n",
       "7    李洪      电销   6/2/2020    35   医疗     400\n",
       "8    蓝洋  传统保险代理   7/3/2020    67   重疾   50000\n",
       "9    刘峰  传统保险代理   8/4/2020    65   重疾   30000\n",
       "10   李泉  传统保险代理   9/5/2020    34   教育  100000\n",
       "11   张敏  保险中介平台  10/6/2020    56   重疾   30000\n",
       "12   梁幸  保险中介平台  11/6/2020    75   人寿   60000"
      ]
     },
     "execution_count": 14,
     "metadata": {},
     "output_type": "execute_result"
    }
   ],
   "source": [
    "# 读取保单数据\n",
    "insurance_data = pd.read_csv('保险案例.csv', encoding = 'utf-8')\n",
    "# 查看保单数据\n",
    "insurance_data"
   ]
  },
  {
   "cell_type": "code",
   "execution_count": 15,
   "metadata": {},
   "outputs": [
    {
     "data": {
      "text/html": [
       "<div>\n",
       "<style scoped>\n",
       "    .dataframe tbody tr th:only-of-type {\n",
       "        vertical-align: middle;\n",
       "    }\n",
       "\n",
       "    .dataframe tbody tr th {\n",
       "        vertical-align: top;\n",
       "    }\n",
       "\n",
       "    .dataframe thead th {\n",
       "        text-align: right;\n",
       "    }\n",
       "</style>\n",
       "<table border=\"1\" class=\"dataframe\">\n",
       "  <thead>\n",
       "    <tr style=\"text-align: right;\">\n",
       "      <th></th>\n",
       "      <th>订单编号</th>\n",
       "      <th>日期</th>\n",
       "      <th>省</th>\n",
       "      <th>订单量</th>\n",
       "      <th>单价</th>\n",
       "      <th>销售额</th>\n",
       "    </tr>\n",
       "  </thead>\n",
       "  <tbody>\n",
       "    <tr>\n",
       "      <th>0</th>\n",
       "      <td>87af-48e5-8bed-c5dcf9ecc172</td>\n",
       "      <td>2020-01-01</td>\n",
       "      <td>广东</td>\n",
       "      <td>0.0</td>\n",
       "      <td>30.0</td>\n",
       "      <td>0.0</td>\n",
       "    </tr>\n",
       "    <tr>\n",
       "      <th>1</th>\n",
       "      <td>535a-4eca-8fa0-9cc54c66e11d</td>\n",
       "      <td>2020-01-01</td>\n",
       "      <td>河南</td>\n",
       "      <td>0.0</td>\n",
       "      <td>30.0</td>\n",
       "      <td>0.0</td>\n",
       "    </tr>\n",
       "    <tr>\n",
       "      <th>2</th>\n",
       "      <td>a56d-4415-ad6e-020cdb154c35</td>\n",
       "      <td>2020-01-01</td>\n",
       "      <td>湖北</td>\n",
       "      <td>1.0</td>\n",
       "      <td>30.0</td>\n",
       "      <td>30.0</td>\n",
       "    </tr>\n",
       "    <tr>\n",
       "      <th>3</th>\n",
       "      <td>535a-4eca-8fa0-9cc54c66e11d</td>\n",
       "      <td>2020-01-01</td>\n",
       "      <td>河南</td>\n",
       "      <td>0.0</td>\n",
       "      <td>30.0</td>\n",
       "      <td>0.0</td>\n",
       "    </tr>\n",
       "    <tr>\n",
       "      <th>4</th>\n",
       "      <td>535a-4eca-8fa0-9cc54c66e11d</td>\n",
       "      <td>2020-01-01</td>\n",
       "      <td>河南</td>\n",
       "      <td>0.0</td>\n",
       "      <td>30.0</td>\n",
       "      <td>0.0</td>\n",
       "    </tr>\n",
       "  </tbody>\n",
       "</table>\n",
       "</div>"
      ],
      "text/plain": [
       "                          订单编号          日期   省  订单量    单价   销售额\n",
       "0  87af-48e5-8bed-c5dcf9ecc172  2020-01-01  广东  0.0  30.0   0.0\n",
       "1  535a-4eca-8fa0-9cc54c66e11d  2020-01-01  河南  0.0  30.0   0.0\n",
       "2  a56d-4415-ad6e-020cdb154c35  2020-01-01  湖北  1.0  30.0  30.0\n",
       "3  535a-4eca-8fa0-9cc54c66e11d  2020-01-01  河南  0.0  30.0   0.0\n",
       "4  535a-4eca-8fa0-9cc54c66e11d  2020-01-01  河南  0.0  30.0   0.0"
      ]
     },
     "execution_count": 15,
     "metadata": {},
     "output_type": "execute_result"
    }
   ],
   "source": [
    "my_data.head()"
   ]
  },
  {
   "cell_type": "code",
   "execution_count": 16,
   "metadata": {},
   "outputs": [
    {
     "data": {
      "text/html": [
       "<div>\n",
       "<style scoped>\n",
       "    .dataframe tbody tr th:only-of-type {\n",
       "        vertical-align: middle;\n",
       "    }\n",
       "\n",
       "    .dataframe tbody tr th {\n",
       "        vertical-align: top;\n",
       "    }\n",
       "\n",
       "    .dataframe thead th {\n",
       "        text-align: right;\n",
       "    }\n",
       "</style>\n",
       "<table border=\"1\" class=\"dataframe\">\n",
       "  <thead>\n",
       "    <tr style=\"text-align: right;\">\n",
       "      <th></th>\n",
       "      <th>订单编号</th>\n",
       "      <th>日期</th>\n",
       "      <th>省</th>\n",
       "      <th>订单量</th>\n",
       "      <th>单价</th>\n",
       "      <th>销售额</th>\n",
       "    </tr>\n",
       "  </thead>\n",
       "  <tbody>\n",
       "    <tr>\n",
       "      <th>101937</th>\n",
       "      <td>6339-43f4-a12b-7b57d1ce3a48</td>\n",
       "      <td>NaN</td>\n",
       "      <td>NaN</td>\n",
       "      <td>NaN</td>\n",
       "      <td>NaN</td>\n",
       "      <td>NaN</td>\n",
       "    </tr>\n",
       "    <tr>\n",
       "      <th>101938</th>\n",
       "      <td>5e43-41c2-8696-fd5909cc98a4</td>\n",
       "      <td>NaN</td>\n",
       "      <td>NaN</td>\n",
       "      <td>999999999.0</td>\n",
       "      <td>999999999.0</td>\n",
       "      <td>999999999.0</td>\n",
       "    </tr>\n",
       "    <tr>\n",
       "      <th>101939</th>\n",
       "      <td>824c-4f2b-af43-038938d2db46</td>\n",
       "      <td>NaN</td>\n",
       "      <td>NaN</td>\n",
       "      <td>999999999.0</td>\n",
       "      <td>999999999.0</td>\n",
       "      <td>999999999.0</td>\n",
       "    </tr>\n",
       "    <tr>\n",
       "      <th>101940</th>\n",
       "      <td>1cf0-483a-ab11-0cebc6406c78</td>\n",
       "      <td>NaN</td>\n",
       "      <td>NaN</td>\n",
       "      <td>0.0</td>\n",
       "      <td>NaN</td>\n",
       "      <td>0.0</td>\n",
       "    </tr>\n",
       "    <tr>\n",
       "      <th>101941</th>\n",
       "      <td>8318-43df-9d34-0656d9eb759a</td>\n",
       "      <td>NaN</td>\n",
       "      <td>NaN</td>\n",
       "      <td>0.0</td>\n",
       "      <td>NaN</td>\n",
       "      <td>0.0</td>\n",
       "    </tr>\n",
       "  </tbody>\n",
       "</table>\n",
       "</div>"
      ],
      "text/plain": [
       "                               订单编号   日期    省          订单量           单价  \\\n",
       "101937  6339-43f4-a12b-7b57d1ce3a48  NaN  NaN          NaN          NaN   \n",
       "101938  5e43-41c2-8696-fd5909cc98a4  NaN  NaN  999999999.0  999999999.0   \n",
       "101939  824c-4f2b-af43-038938d2db46  NaN  NaN  999999999.0  999999999.0   \n",
       "101940  1cf0-483a-ab11-0cebc6406c78  NaN  NaN          0.0          NaN   \n",
       "101941  8318-43df-9d34-0656d9eb759a  NaN  NaN          0.0          NaN   \n",
       "\n",
       "                销售额  \n",
       "101937          NaN  \n",
       "101938  999999999.0  \n",
       "101939  999999999.0  \n",
       "101940          0.0  \n",
       "101941          0.0  "
      ]
     },
     "execution_count": 16,
     "metadata": {},
     "output_type": "execute_result"
    }
   ],
   "source": [
    "my_data.tail()"
   ]
  },
  {
   "cell_type": "code",
   "execution_count": 17,
   "metadata": {},
   "outputs": [
    {
     "data": {
      "text/html": [
       "<div>\n",
       "<style scoped>\n",
       "    .dataframe tbody tr th:only-of-type {\n",
       "        vertical-align: middle;\n",
       "    }\n",
       "\n",
       "    .dataframe tbody tr th {\n",
       "        vertical-align: top;\n",
       "    }\n",
       "\n",
       "    .dataframe thead th {\n",
       "        text-align: right;\n",
       "    }\n",
       "</style>\n",
       "<table border=\"1\" class=\"dataframe\">\n",
       "  <thead>\n",
       "    <tr style=\"text-align: right;\">\n",
       "      <th></th>\n",
       "      <th>订单编号</th>\n",
       "      <th>日期</th>\n",
       "      <th>省</th>\n",
       "      <th>订单量</th>\n",
       "      <th>单价</th>\n",
       "      <th>销售额</th>\n",
       "    </tr>\n",
       "  </thead>\n",
       "  <tbody>\n",
       "    <tr>\n",
       "      <th>101932</th>\n",
       "      <td>c64b-45e5-b09a-e070ed9b7c16</td>\n",
       "      <td>NaN</td>\n",
       "      <td>NaN</td>\n",
       "      <td>NaN</td>\n",
       "      <td>NaN</td>\n",
       "      <td>NaN</td>\n",
       "    </tr>\n",
       "    <tr>\n",
       "      <th>101933</th>\n",
       "      <td>cc74-4695-9b6c-ac2571a5d83b</td>\n",
       "      <td>NaN</td>\n",
       "      <td>NaN</td>\n",
       "      <td>NaN</td>\n",
       "      <td>NaN</td>\n",
       "      <td>NaN</td>\n",
       "    </tr>\n",
       "    <tr>\n",
       "      <th>101934</th>\n",
       "      <td>7aaf-4d49-aecf-dd0f04ca0ea4</td>\n",
       "      <td>NaN</td>\n",
       "      <td>NaN</td>\n",
       "      <td>NaN</td>\n",
       "      <td>NaN</td>\n",
       "      <td>NaN</td>\n",
       "    </tr>\n",
       "    <tr>\n",
       "      <th>101935</th>\n",
       "      <td>981f-4b3d-a1eb-5a032814adb6</td>\n",
       "      <td>NaN</td>\n",
       "      <td>NaN</td>\n",
       "      <td>NaN</td>\n",
       "      <td>NaN</td>\n",
       "      <td>NaN</td>\n",
       "    </tr>\n",
       "    <tr>\n",
       "      <th>101936</th>\n",
       "      <td>ad30-4371-a319-17c235c9c67c</td>\n",
       "      <td>NaN</td>\n",
       "      <td>NaN</td>\n",
       "      <td>NaN</td>\n",
       "      <td>NaN</td>\n",
       "      <td>NaN</td>\n",
       "    </tr>\n",
       "    <tr>\n",
       "      <th>101937</th>\n",
       "      <td>6339-43f4-a12b-7b57d1ce3a48</td>\n",
       "      <td>NaN</td>\n",
       "      <td>NaN</td>\n",
       "      <td>NaN</td>\n",
       "      <td>NaN</td>\n",
       "      <td>NaN</td>\n",
       "    </tr>\n",
       "    <tr>\n",
       "      <th>101938</th>\n",
       "      <td>5e43-41c2-8696-fd5909cc98a4</td>\n",
       "      <td>NaN</td>\n",
       "      <td>NaN</td>\n",
       "      <td>999999999.0</td>\n",
       "      <td>999999999.0</td>\n",
       "      <td>999999999.0</td>\n",
       "    </tr>\n",
       "    <tr>\n",
       "      <th>101939</th>\n",
       "      <td>824c-4f2b-af43-038938d2db46</td>\n",
       "      <td>NaN</td>\n",
       "      <td>NaN</td>\n",
       "      <td>999999999.0</td>\n",
       "      <td>999999999.0</td>\n",
       "      <td>999999999.0</td>\n",
       "    </tr>\n",
       "    <tr>\n",
       "      <th>101940</th>\n",
       "      <td>1cf0-483a-ab11-0cebc6406c78</td>\n",
       "      <td>NaN</td>\n",
       "      <td>NaN</td>\n",
       "      <td>0.0</td>\n",
       "      <td>NaN</td>\n",
       "      <td>0.0</td>\n",
       "    </tr>\n",
       "    <tr>\n",
       "      <th>101941</th>\n",
       "      <td>8318-43df-9d34-0656d9eb759a</td>\n",
       "      <td>NaN</td>\n",
       "      <td>NaN</td>\n",
       "      <td>0.0</td>\n",
       "      <td>NaN</td>\n",
       "      <td>0.0</td>\n",
       "    </tr>\n",
       "  </tbody>\n",
       "</table>\n",
       "</div>"
      ],
      "text/plain": [
       "                               订单编号   日期    省          订单量           单价  \\\n",
       "101932  c64b-45e5-b09a-e070ed9b7c16  NaN  NaN          NaN          NaN   \n",
       "101933  cc74-4695-9b6c-ac2571a5d83b  NaN  NaN          NaN          NaN   \n",
       "101934  7aaf-4d49-aecf-dd0f04ca0ea4  NaN  NaN          NaN          NaN   \n",
       "101935  981f-4b3d-a1eb-5a032814adb6  NaN  NaN          NaN          NaN   \n",
       "101936  ad30-4371-a319-17c235c9c67c  NaN  NaN          NaN          NaN   \n",
       "101937  6339-43f4-a12b-7b57d1ce3a48  NaN  NaN          NaN          NaN   \n",
       "101938  5e43-41c2-8696-fd5909cc98a4  NaN  NaN  999999999.0  999999999.0   \n",
       "101939  824c-4f2b-af43-038938d2db46  NaN  NaN  999999999.0  999999999.0   \n",
       "101940  1cf0-483a-ab11-0cebc6406c78  NaN  NaN          0.0          NaN   \n",
       "101941  8318-43df-9d34-0656d9eb759a  NaN  NaN          0.0          NaN   \n",
       "\n",
       "                销售额  \n",
       "101932          NaN  \n",
       "101933          NaN  \n",
       "101934          NaN  \n",
       "101935          NaN  \n",
       "101936          NaN  \n",
       "101937          NaN  \n",
       "101938  999999999.0  \n",
       "101939  999999999.0  \n",
       "101940          0.0  \n",
       "101941          0.0  "
      ]
     },
     "execution_count": 17,
     "metadata": {},
     "output_type": "execute_result"
    }
   ],
   "source": [
    "my_data.tail(10)"
   ]
  },
  {
   "cell_type": "code",
   "execution_count": 18,
   "metadata": {},
   "outputs": [],
   "source": [
    "mask_data = my_data"
   ]
  },
  {
   "cell_type": "code",
   "execution_count": 19,
   "metadata": {},
   "outputs": [
    {
     "name": "stdout",
     "output_type": "stream",
     "text": [
      "<class 'pandas.core.frame.DataFrame'>\n",
      "RangeIndex: 101942 entries, 0 to 101941\n",
      "Data columns (total 6 columns):\n",
      " #   Column  Non-Null Count   Dtype  \n",
      "---  ------  --------------   -----  \n",
      " 0   订单编号    101942 non-null  object \n",
      " 1   日期      100956 non-null  object \n",
      " 2   省       100956 non-null  object \n",
      " 3   订单量     100960 non-null  float64\n",
      " 4   单价      100958 non-null  float64\n",
      " 5   销售额     100960 non-null  float64\n",
      "dtypes: float64(3), object(3)\n",
      "memory usage: 4.7+ MB\n"
     ]
    }
   ],
   "source": [
    "# 查看 mask_data 的基本信息总结\n",
    "mask_data.info()"
   ]
  },
  {
   "cell_type": "code",
   "execution_count": 20,
   "metadata": {},
   "outputs": [
    {
     "data": {
      "text/html": [
       "<div>\n",
       "<style scoped>\n",
       "    .dataframe tbody tr th:only-of-type {\n",
       "        vertical-align: middle;\n",
       "    }\n",
       "\n",
       "    .dataframe tbody tr th {\n",
       "        vertical-align: top;\n",
       "    }\n",
       "\n",
       "    .dataframe thead th {\n",
       "        text-align: right;\n",
       "    }\n",
       "</style>\n",
       "<table border=\"1\" class=\"dataframe\">\n",
       "  <thead>\n",
       "    <tr style=\"text-align: right;\">\n",
       "      <th></th>\n",
       "      <th>订单编号</th>\n",
       "      <th>日期</th>\n",
       "      <th>省</th>\n",
       "      <th>订单量</th>\n",
       "      <th>单价</th>\n",
       "      <th>销售额</th>\n",
       "    </tr>\n",
       "  </thead>\n",
       "  <tbody>\n",
       "    <tr>\n",
       "      <th>0</th>\n",
       "      <td>False</td>\n",
       "      <td>False</td>\n",
       "      <td>False</td>\n",
       "      <td>False</td>\n",
       "      <td>False</td>\n",
       "      <td>False</td>\n",
       "    </tr>\n",
       "    <tr>\n",
       "      <th>1</th>\n",
       "      <td>False</td>\n",
       "      <td>False</td>\n",
       "      <td>False</td>\n",
       "      <td>False</td>\n",
       "      <td>False</td>\n",
       "      <td>False</td>\n",
       "    </tr>\n",
       "    <tr>\n",
       "      <th>2</th>\n",
       "      <td>False</td>\n",
       "      <td>False</td>\n",
       "      <td>False</td>\n",
       "      <td>False</td>\n",
       "      <td>False</td>\n",
       "      <td>False</td>\n",
       "    </tr>\n",
       "    <tr>\n",
       "      <th>3</th>\n",
       "      <td>False</td>\n",
       "      <td>False</td>\n",
       "      <td>False</td>\n",
       "      <td>False</td>\n",
       "      <td>False</td>\n",
       "      <td>False</td>\n",
       "    </tr>\n",
       "    <tr>\n",
       "      <th>4</th>\n",
       "      <td>False</td>\n",
       "      <td>False</td>\n",
       "      <td>False</td>\n",
       "      <td>False</td>\n",
       "      <td>False</td>\n",
       "      <td>False</td>\n",
       "    </tr>\n",
       "    <tr>\n",
       "      <th>...</th>\n",
       "      <td>...</td>\n",
       "      <td>...</td>\n",
       "      <td>...</td>\n",
       "      <td>...</td>\n",
       "      <td>...</td>\n",
       "      <td>...</td>\n",
       "    </tr>\n",
       "    <tr>\n",
       "      <th>101937</th>\n",
       "      <td>False</td>\n",
       "      <td>True</td>\n",
       "      <td>True</td>\n",
       "      <td>True</td>\n",
       "      <td>True</td>\n",
       "      <td>True</td>\n",
       "    </tr>\n",
       "    <tr>\n",
       "      <th>101938</th>\n",
       "      <td>False</td>\n",
       "      <td>True</td>\n",
       "      <td>True</td>\n",
       "      <td>False</td>\n",
       "      <td>False</td>\n",
       "      <td>False</td>\n",
       "    </tr>\n",
       "    <tr>\n",
       "      <th>101939</th>\n",
       "      <td>False</td>\n",
       "      <td>True</td>\n",
       "      <td>True</td>\n",
       "      <td>False</td>\n",
       "      <td>False</td>\n",
       "      <td>False</td>\n",
       "    </tr>\n",
       "    <tr>\n",
       "      <th>101940</th>\n",
       "      <td>False</td>\n",
       "      <td>True</td>\n",
       "      <td>True</td>\n",
       "      <td>False</td>\n",
       "      <td>True</td>\n",
       "      <td>False</td>\n",
       "    </tr>\n",
       "    <tr>\n",
       "      <th>101941</th>\n",
       "      <td>False</td>\n",
       "      <td>True</td>\n",
       "      <td>True</td>\n",
       "      <td>False</td>\n",
       "      <td>True</td>\n",
       "      <td>False</td>\n",
       "    </tr>\n",
       "  </tbody>\n",
       "</table>\n",
       "<p>101942 rows × 6 columns</p>\n",
       "</div>"
      ],
      "text/plain": [
       "         订单编号     日期      省    订单量     单价    销售额\n",
       "0       False  False  False  False  False  False\n",
       "1       False  False  False  False  False  False\n",
       "2       False  False  False  False  False  False\n",
       "3       False  False  False  False  False  False\n",
       "4       False  False  False  False  False  False\n",
       "...       ...    ...    ...    ...    ...    ...\n",
       "101937  False   True   True   True   True   True\n",
       "101938  False   True   True  False  False  False\n",
       "101939  False   True   True  False  False  False\n",
       "101940  False   True   True  False   True  False\n",
       "101941  False   True   True  False   True  False\n",
       "\n",
       "[101942 rows x 6 columns]"
      ]
     },
     "execution_count": 20,
     "metadata": {},
     "output_type": "execute_result"
    }
   ],
   "source": [
    "# 查看 mask_data 的缺失值\n",
    "mask_data.isna()"
   ]
  },
  {
   "cell_type": "code",
   "execution_count": 21,
   "metadata": {},
   "outputs": [
    {
     "data": {
      "text/html": [
       "<div>\n",
       "<style scoped>\n",
       "    .dataframe tbody tr th:only-of-type {\n",
       "        vertical-align: middle;\n",
       "    }\n",
       "\n",
       "    .dataframe tbody tr th {\n",
       "        vertical-align: top;\n",
       "    }\n",
       "\n",
       "    .dataframe thead th {\n",
       "        text-align: right;\n",
       "    }\n",
       "</style>\n",
       "<table border=\"1\" class=\"dataframe\">\n",
       "  <thead>\n",
       "    <tr style=\"text-align: right;\">\n",
       "      <th></th>\n",
       "      <th>订单编号</th>\n",
       "      <th>日期</th>\n",
       "      <th>省</th>\n",
       "      <th>订单量</th>\n",
       "      <th>单价</th>\n",
       "      <th>销售额</th>\n",
       "    </tr>\n",
       "  </thead>\n",
       "  <tbody>\n",
       "    <tr>\n",
       "      <th>101937</th>\n",
       "      <td>6339-43f4-a12b-7b57d1ce3a48</td>\n",
       "      <td>NaN</td>\n",
       "      <td>NaN</td>\n",
       "      <td>NaN</td>\n",
       "      <td>NaN</td>\n",
       "      <td>NaN</td>\n",
       "    </tr>\n",
       "    <tr>\n",
       "      <th>101938</th>\n",
       "      <td>5e43-41c2-8696-fd5909cc98a4</td>\n",
       "      <td>NaN</td>\n",
       "      <td>NaN</td>\n",
       "      <td>999999999.0</td>\n",
       "      <td>999999999.0</td>\n",
       "      <td>999999999.0</td>\n",
       "    </tr>\n",
       "    <tr>\n",
       "      <th>101939</th>\n",
       "      <td>824c-4f2b-af43-038938d2db46</td>\n",
       "      <td>NaN</td>\n",
       "      <td>NaN</td>\n",
       "      <td>999999999.0</td>\n",
       "      <td>999999999.0</td>\n",
       "      <td>999999999.0</td>\n",
       "    </tr>\n",
       "    <tr>\n",
       "      <th>101940</th>\n",
       "      <td>1cf0-483a-ab11-0cebc6406c78</td>\n",
       "      <td>NaN</td>\n",
       "      <td>NaN</td>\n",
       "      <td>0.0</td>\n",
       "      <td>NaN</td>\n",
       "      <td>0.0</td>\n",
       "    </tr>\n",
       "    <tr>\n",
       "      <th>101941</th>\n",
       "      <td>8318-43df-9d34-0656d9eb759a</td>\n",
       "      <td>NaN</td>\n",
       "      <td>NaN</td>\n",
       "      <td>0.0</td>\n",
       "      <td>NaN</td>\n",
       "      <td>0.0</td>\n",
       "    </tr>\n",
       "  </tbody>\n",
       "</table>\n",
       "</div>"
      ],
      "text/plain": [
       "                               订单编号   日期    省          订单量           单价  \\\n",
       "101937  6339-43f4-a12b-7b57d1ce3a48  NaN  NaN          NaN          NaN   \n",
       "101938  5e43-41c2-8696-fd5909cc98a4  NaN  NaN  999999999.0  999999999.0   \n",
       "101939  824c-4f2b-af43-038938d2db46  NaN  NaN  999999999.0  999999999.0   \n",
       "101940  1cf0-483a-ab11-0cebc6406c78  NaN  NaN          0.0          NaN   \n",
       "101941  8318-43df-9d34-0656d9eb759a  NaN  NaN          0.0          NaN   \n",
       "\n",
       "                销售额  \n",
       "101937          NaN  \n",
       "101938  999999999.0  \n",
       "101939  999999999.0  \n",
       "101940          0.0  \n",
       "101941          0.0  "
      ]
     },
     "execution_count": 21,
     "metadata": {},
     "output_type": "execute_result"
    }
   ],
   "source": [
    "# 查看数据后 5 行\n",
    "mask_data.tail()"
   ]
  },
  {
   "cell_type": "code",
   "execution_count": 22,
   "metadata": {},
   "outputs": [
    {
     "data": {
      "text/html": [
       "<div>\n",
       "<style scoped>\n",
       "    .dataframe tbody tr th:only-of-type {\n",
       "        vertical-align: middle;\n",
       "    }\n",
       "\n",
       "    .dataframe tbody tr th {\n",
       "        vertical-align: top;\n",
       "    }\n",
       "\n",
       "    .dataframe thead th {\n",
       "        text-align: right;\n",
       "    }\n",
       "</style>\n",
       "<table border=\"1\" class=\"dataframe\">\n",
       "  <thead>\n",
       "    <tr style=\"text-align: right;\">\n",
       "      <th></th>\n",
       "      <th>订单编号</th>\n",
       "      <th>日期</th>\n",
       "      <th>省</th>\n",
       "      <th>订单量</th>\n",
       "      <th>单价</th>\n",
       "      <th>销售额</th>\n",
       "    </tr>\n",
       "  </thead>\n",
       "  <tbody>\n",
       "    <tr>\n",
       "      <th>0</th>\n",
       "      <td>87af-48e5-8bed-c5dcf9ecc172</td>\n",
       "      <td>2020-01-01</td>\n",
       "      <td>广东</td>\n",
       "      <td>0.0</td>\n",
       "      <td>30.0</td>\n",
       "      <td>0.0</td>\n",
       "    </tr>\n",
       "    <tr>\n",
       "      <th>1</th>\n",
       "      <td>535a-4eca-8fa0-9cc54c66e11d</td>\n",
       "      <td>2020-01-01</td>\n",
       "      <td>河南</td>\n",
       "      <td>0.0</td>\n",
       "      <td>30.0</td>\n",
       "      <td>0.0</td>\n",
       "    </tr>\n",
       "    <tr>\n",
       "      <th>2</th>\n",
       "      <td>a56d-4415-ad6e-020cdb154c35</td>\n",
       "      <td>2020-01-01</td>\n",
       "      <td>湖北</td>\n",
       "      <td>1.0</td>\n",
       "      <td>30.0</td>\n",
       "      <td>30.0</td>\n",
       "    </tr>\n",
       "    <tr>\n",
       "      <th>3</th>\n",
       "      <td>535a-4eca-8fa0-9cc54c66e11d</td>\n",
       "      <td>2020-01-01</td>\n",
       "      <td>河南</td>\n",
       "      <td>0.0</td>\n",
       "      <td>30.0</td>\n",
       "      <td>0.0</td>\n",
       "    </tr>\n",
       "    <tr>\n",
       "      <th>4</th>\n",
       "      <td>535a-4eca-8fa0-9cc54c66e11d</td>\n",
       "      <td>2020-01-01</td>\n",
       "      <td>河南</td>\n",
       "      <td>0.0</td>\n",
       "      <td>30.0</td>\n",
       "      <td>0.0</td>\n",
       "    </tr>\n",
       "    <tr>\n",
       "      <th>...</th>\n",
       "      <td>...</td>\n",
       "      <td>...</td>\n",
       "      <td>...</td>\n",
       "      <td>...</td>\n",
       "      <td>...</td>\n",
       "      <td>...</td>\n",
       "    </tr>\n",
       "    <tr>\n",
       "      <th>100951</th>\n",
       "      <td>8cad-41ee-85b7-c59b85f0ebe6</td>\n",
       "      <td>2020-06-30</td>\n",
       "      <td>湖北</td>\n",
       "      <td>10.0</td>\n",
       "      <td>30.0</td>\n",
       "      <td>300.0</td>\n",
       "    </tr>\n",
       "    <tr>\n",
       "      <th>100952</th>\n",
       "      <td>4ea4-480a-a070-295408955363</td>\n",
       "      <td>2020-06-30</td>\n",
       "      <td>湖北</td>\n",
       "      <td>6.0</td>\n",
       "      <td>30.0</td>\n",
       "      <td>180.0</td>\n",
       "    </tr>\n",
       "    <tr>\n",
       "      <th>100953</th>\n",
       "      <td>70f3-4461-9b5f-7f53a55c51b6</td>\n",
       "      <td>2020-06-30</td>\n",
       "      <td>湖北</td>\n",
       "      <td>10.0</td>\n",
       "      <td>30.0</td>\n",
       "      <td>300.0</td>\n",
       "    </tr>\n",
       "    <tr>\n",
       "      <th>100954</th>\n",
       "      <td>9cc8-4542-8fed-3145e1942504</td>\n",
       "      <td>2020-06-30</td>\n",
       "      <td>湖北</td>\n",
       "      <td>10.0</td>\n",
       "      <td>30.0</td>\n",
       "      <td>300.0</td>\n",
       "    </tr>\n",
       "    <tr>\n",
       "      <th>100955</th>\n",
       "      <td>f202-45df-96e2-ca4e4c389624</td>\n",
       "      <td>2020-06-30</td>\n",
       "      <td>湖北</td>\n",
       "      <td>5.0</td>\n",
       "      <td>30.0</td>\n",
       "      <td>150.0</td>\n",
       "    </tr>\n",
       "  </tbody>\n",
       "</table>\n",
       "<p>100956 rows × 6 columns</p>\n",
       "</div>"
      ],
      "text/plain": [
       "                               订单编号          日期   省   订单量    单价    销售额\n",
       "0       87af-48e5-8bed-c5dcf9ecc172  2020-01-01  广东   0.0  30.0    0.0\n",
       "1       535a-4eca-8fa0-9cc54c66e11d  2020-01-01  河南   0.0  30.0    0.0\n",
       "2       a56d-4415-ad6e-020cdb154c35  2020-01-01  湖北   1.0  30.0   30.0\n",
       "3       535a-4eca-8fa0-9cc54c66e11d  2020-01-01  河南   0.0  30.0    0.0\n",
       "4       535a-4eca-8fa0-9cc54c66e11d  2020-01-01  河南   0.0  30.0    0.0\n",
       "...                             ...         ...  ..   ...   ...    ...\n",
       "100951  8cad-41ee-85b7-c59b85f0ebe6  2020-06-30  湖北  10.0  30.0  300.0\n",
       "100952  4ea4-480a-a070-295408955363  2020-06-30  湖北   6.0  30.0  180.0\n",
       "100953  70f3-4461-9b5f-7f53a55c51b6  2020-06-30  湖北  10.0  30.0  300.0\n",
       "100954  9cc8-4542-8fed-3145e1942504  2020-06-30  湖北  10.0  30.0  300.0\n",
       "100955  f202-45df-96e2-ca4e4c389624  2020-06-30  湖北   5.0  30.0  150.0\n",
       "\n",
       "[100956 rows x 6 columns]"
      ]
     },
     "execution_count": 22,
     "metadata": {},
     "output_type": "execute_result"
    }
   ],
   "source": [
    "# 删除所有缺失值\n",
    "mask_data.dropna()"
   ]
  },
  {
   "cell_type": "code",
   "execution_count": 23,
   "metadata": {},
   "outputs": [
    {
     "name": "stdout",
     "output_type": "stream",
     "text": [
      "<class 'pandas.core.frame.DataFrame'>\n",
      "RangeIndex: 101942 entries, 0 to 101941\n",
      "Data columns (total 6 columns):\n",
      " #   Column  Non-Null Count   Dtype  \n",
      "---  ------  --------------   -----  \n",
      " 0   订单编号    101942 non-null  object \n",
      " 1   日期      100956 non-null  object \n",
      " 2   省       100956 non-null  object \n",
      " 3   订单量     100960 non-null  float64\n",
      " 4   单价      100958 non-null  float64\n",
      " 5   销售额     100960 non-null  float64\n",
      "dtypes: float64(3), object(3)\n",
      "memory usage: 4.7+ MB\n"
     ]
    }
   ],
   "source": [
    "# 查看数据基本信息总结\n",
    "mask_data.info()"
   ]
  },
  {
   "cell_type": "code",
   "execution_count": 24,
   "metadata": {},
   "outputs": [
    {
     "name": "stdout",
     "output_type": "stream",
     "text": [
      "<class 'pandas.core.frame.DataFrame'>\n",
      "Int64Index: 100956 entries, 0 to 100955\n",
      "Data columns (total 6 columns):\n",
      " #   Column  Non-Null Count   Dtype  \n",
      "---  ------  --------------   -----  \n",
      " 0   订单编号    100956 non-null  object \n",
      " 1   日期      100956 non-null  object \n",
      " 2   省       100956 non-null  object \n",
      " 3   订单量     100956 non-null  float64\n",
      " 4   单价      100956 non-null  float64\n",
      " 5   销售额     100956 non-null  float64\n",
      "dtypes: float64(3), object(3)\n",
      "memory usage: 5.4+ MB\n"
     ]
    }
   ],
   "source": [
    "# 删除所有缺失值\n",
    "mask_data = mask_data.dropna()\n",
    "# 查看数据基本信息总结\n",
    "mask_data.info()"
   ]
  },
  {
   "cell_type": "code",
   "execution_count": 25,
   "metadata": {},
   "outputs": [
    {
     "data": {
      "text/html": [
       "<div>\n",
       "<style scoped>\n",
       "    .dataframe tbody tr th:only-of-type {\n",
       "        vertical-align: middle;\n",
       "    }\n",
       "\n",
       "    .dataframe tbody tr th {\n",
       "        vertical-align: top;\n",
       "    }\n",
       "\n",
       "    .dataframe thead th {\n",
       "        text-align: right;\n",
       "    }\n",
       "</style>\n",
       "<table border=\"1\" class=\"dataframe\">\n",
       "  <thead>\n",
       "    <tr style=\"text-align: right;\">\n",
       "      <th></th>\n",
       "      <th>Unnamed: 0</th>\n",
       "      <th>ID</th>\n",
       "      <th>品牌</th>\n",
       "      <th>车型</th>\n",
       "      <th>具体型号</th>\n",
       "      <th>上牌时间</th>\n",
       "      <th>马力</th>\n",
       "      <th>变速箱类型</th>\n",
       "      <th>燃料</th>\n",
       "      <th>里程数(km)</th>\n",
       "      <th>保值率</th>\n",
       "    </tr>\n",
       "  </thead>\n",
       "  <tbody>\n",
       "    <tr>\n",
       "      <th>0</th>\n",
       "      <td>0</td>\n",
       "      <td>54632.0</td>\n",
       "      <td>大众</td>\n",
       "      <td>Golf</td>\n",
       "      <td>1.2 Tsi Bmt Special Edition 110</td>\n",
       "      <td>2017-01-01</td>\n",
       "      <td>81.0</td>\n",
       "      <td>手动</td>\n",
       "      <td>汽油</td>\n",
       "      <td>10000.0</td>\n",
       "      <td>0.54</td>\n",
       "    </tr>\n",
       "    <tr>\n",
       "      <th>1</th>\n",
       "      <td>1</td>\n",
       "      <td>46820.0</td>\n",
       "      <td>雷诺</td>\n",
       "      <td>GrandScenic</td>\n",
       "      <td>G.Sc�nic 1.5Dci Energy Selection 7Pl.</td>\n",
       "      <td>2016-07-01</td>\n",
       "      <td>81.0</td>\n",
       "      <td>手动</td>\n",
       "      <td>柴油</td>\n",
       "      <td>12600.0</td>\n",
       "      <td>0.51</td>\n",
       "    </tr>\n",
       "    <tr>\n",
       "      <th>2</th>\n",
       "      <td>2</td>\n",
       "      <td>111350.0</td>\n",
       "      <td>沃尔沃</td>\n",
       "      <td>V40</td>\n",
       "      <td>D-3 Momentum 150Cv Auto. 5P</td>\n",
       "      <td>2014-03-01</td>\n",
       "      <td>110.0</td>\n",
       "      <td>自动</td>\n",
       "      <td>柴油</td>\n",
       "      <td>93574.0</td>\n",
       "      <td>0.62</td>\n",
       "    </tr>\n",
       "    <tr>\n",
       "      <th>3</th>\n",
       "      <td>3</td>\n",
       "      <td>77294.0</td>\n",
       "      <td>现代</td>\n",
       "      <td>Ix20</td>\n",
       "      <td>1.6 Crdi Bluedrive Comfort 85Kw (115Cv)</td>\n",
       "      <td>2012-12-01</td>\n",
       "      <td>85.0</td>\n",
       "      <td>手动</td>\n",
       "      <td>柴油</td>\n",
       "      <td>96000.0</td>\n",
       "      <td>0.66</td>\n",
       "    </tr>\n",
       "    <tr>\n",
       "      <th>4</th>\n",
       "      <td>4</td>\n",
       "      <td>24668.0</td>\n",
       "      <td>福特</td>\n",
       "      <td>Focus</td>\n",
       "      <td>1.6Tdci Business</td>\n",
       "      <td>2009-12-01</td>\n",
       "      <td>66.0</td>\n",
       "      <td>手动</td>\n",
       "      <td>柴油</td>\n",
       "      <td>142000.0</td>\n",
       "      <td>0.65</td>\n",
       "    </tr>\n",
       "    <tr>\n",
       "      <th>...</th>\n",
       "      <td>...</td>\n",
       "      <td>...</td>\n",
       "      <td>...</td>\n",
       "      <td>...</td>\n",
       "      <td>...</td>\n",
       "      <td>...</td>\n",
       "      <td>...</td>\n",
       "      <td>...</td>\n",
       "      <td>...</td>\n",
       "      <td>...</td>\n",
       "      <td>...</td>\n",
       "    </tr>\n",
       "    <tr>\n",
       "      <th>9995</th>\n",
       "      <td>9995</td>\n",
       "      <td>30644.0</td>\n",
       "      <td>奔驰</td>\n",
       "      <td>A200</td>\n",
       "      <td>Cdi Be Urban</td>\n",
       "      <td>2015-12-01</td>\n",
       "      <td>100.0</td>\n",
       "      <td>手动</td>\n",
       "      <td>柴油</td>\n",
       "      <td>50000.0</td>\n",
       "      <td>0.68</td>\n",
       "    </tr>\n",
       "    <tr>\n",
       "      <th>9996</th>\n",
       "      <td>9996</td>\n",
       "      <td>69278.0</td>\n",
       "      <td>雪铁龙</td>\n",
       "      <td>Jumper</td>\n",
       "      <td>Bluehdi L2H1 Furg�n</td>\n",
       "      <td>2018-02-01</td>\n",
       "      <td>85.0</td>\n",
       "      <td>手动</td>\n",
       "      <td>柴油</td>\n",
       "      <td>1.0</td>\n",
       "      <td>0.69</td>\n",
       "    </tr>\n",
       "    <tr>\n",
       "      <th>9997</th>\n",
       "      <td>9997</td>\n",
       "      <td>4788.0</td>\n",
       "      <td>奥迪</td>\n",
       "      <td>A4</td>\n",
       "      <td>2.0 Tdi Sport Edition 110 Kw (150 Cv)</td>\n",
       "      <td>2016-01-01</td>\n",
       "      <td>110.0</td>\n",
       "      <td>手动</td>\n",
       "      <td>柴油</td>\n",
       "      <td>5.0</td>\n",
       "      <td>0.67</td>\n",
       "    </tr>\n",
       "    <tr>\n",
       "      <th>9998</th>\n",
       "      <td>9998</td>\n",
       "      <td>14122.0</td>\n",
       "      <td>宝马</td>\n",
       "      <td>318</td>\n",
       "      <td>D Gran Turismo</td>\n",
       "      <td>2016-04-01</td>\n",
       "      <td>110.0</td>\n",
       "      <td>自动</td>\n",
       "      <td>柴油</td>\n",
       "      <td>35155.0</td>\n",
       "      <td>0.65</td>\n",
       "    </tr>\n",
       "    <tr>\n",
       "      <th>9999</th>\n",
       "      <td>9999</td>\n",
       "      <td>60203.0</td>\n",
       "      <td>大众</td>\n",
       "      <td>Touareg</td>\n",
       "      <td>Touareg V6 Tdi * Susp. Neumatica * Xenon * Nav...</td>\n",
       "      <td>2013-09-01</td>\n",
       "      <td>180.0</td>\n",
       "      <td>自动</td>\n",
       "      <td>柴油</td>\n",
       "      <td>125721.0</td>\n",
       "      <td>0.52</td>\n",
       "    </tr>\n",
       "  </tbody>\n",
       "</table>\n",
       "<p>10000 rows × 11 columns</p>\n",
       "</div>"
      ],
      "text/plain": [
       "      Unnamed: 0        ID   品牌           车型  \\\n",
       "0              0   54632.0   大众         Golf   \n",
       "1              1   46820.0   雷诺  GrandScenic   \n",
       "2              2  111350.0  沃尔沃          V40   \n",
       "3              3   77294.0   现代         Ix20   \n",
       "4              4   24668.0   福特        Focus   \n",
       "...          ...       ...  ...          ...   \n",
       "9995        9995   30644.0   奔驰         A200   \n",
       "9996        9996   69278.0  雪铁龙       Jumper   \n",
       "9997        9997    4788.0   奥迪           A4   \n",
       "9998        9998   14122.0   宝马          318   \n",
       "9999        9999   60203.0   大众      Touareg   \n",
       "\n",
       "                                                   具体型号        上牌时间     马力  \\\n",
       "0                       1.2 Tsi Bmt Special Edition 110  2017-01-01   81.0   \n",
       "1                 G.Sc�nic 1.5Dci Energy Selection 7Pl.  2016-07-01   81.0   \n",
       "2                           D-3 Momentum 150Cv Auto. 5P  2014-03-01  110.0   \n",
       "3               1.6 Crdi Bluedrive Comfort 85Kw (115Cv)  2012-12-01   85.0   \n",
       "4                                      1.6Tdci Business  2009-12-01   66.0   \n",
       "...                                                 ...         ...    ...   \n",
       "9995                                       Cdi Be Urban  2015-12-01  100.0   \n",
       "9996                                Bluehdi L2H1 Furg�n  2018-02-01   85.0   \n",
       "9997              2.0 Tdi Sport Edition 110 Kw (150 Cv)  2016-01-01  110.0   \n",
       "9998                                     D Gran Turismo  2016-04-01  110.0   \n",
       "9999  Touareg V6 Tdi * Susp. Neumatica * Xenon * Nav...  2013-09-01  180.0   \n",
       "\n",
       "     变速箱类型  燃料   里程数(km)   保值率  \n",
       "0       手动  汽油   10000.0  0.54  \n",
       "1       手动  柴油   12600.0  0.51  \n",
       "2       自动  柴油   93574.0  0.62  \n",
       "3       手动  柴油   96000.0  0.66  \n",
       "4       手动  柴油  142000.0  0.65  \n",
       "...    ...  ..       ...   ...  \n",
       "9995    手动  柴油   50000.0  0.68  \n",
       "9996    手动  柴油       1.0  0.69  \n",
       "9997    手动  柴油       5.0  0.67  \n",
       "9998    自动  柴油   35155.0  0.65  \n",
       "9999    自动  柴油  125721.0  0.52  \n",
       "\n",
       "[10000 rows x 11 columns]"
      ]
     },
     "execution_count": 25,
     "metadata": {},
     "output_type": "execute_result"
    }
   ],
   "source": [
    "# 读取练习数据，文件路径为'./工作/test_data.csv'，编码格式为'utf-8'\n",
    "test_data = pd.read_csv('test_data.csv', encoding='utf-8')\n",
    "# 查看 test_data\n",
    "test_data"
   ]
  },
  {
   "cell_type": "code",
   "execution_count": 26,
   "metadata": {},
   "outputs": [
    {
     "name": "stdout",
     "output_type": "stream",
     "text": [
      "<class 'pandas.core.frame.DataFrame'>\n",
      "RangeIndex: 10000 entries, 0 to 9999\n",
      "Data columns (total 11 columns):\n",
      " #   Column      Non-Null Count  Dtype  \n",
      "---  ------      --------------  -----  \n",
      " 0   Unnamed: 0  10000 non-null  int64  \n",
      " 1   ID          9968 non-null   float64\n",
      " 2   品牌          9964 non-null   object \n",
      " 3   车型          9968 non-null   object \n",
      " 4   具体型号        9968 non-null   object \n",
      " 5   上牌时间        9965 non-null   object \n",
      " 6   马力          9968 non-null   float64\n",
      " 7   变速箱类型       9967 non-null   object \n",
      " 8   燃料          9968 non-null   object \n",
      " 9   里程数(km)     9905 non-null   float64\n",
      " 10  保值率         9999 non-null   float64\n",
      "dtypes: float64(4), int64(1), object(6)\n",
      "memory usage: 859.5+ KB\n"
     ]
    }
   ],
   "source": [
    "# 查看 test_data 的基本信息总结\n",
    "test_data.info()"
   ]
  },
  {
   "cell_type": "code",
   "execution_count": 27,
   "metadata": {},
   "outputs": [
    {
     "name": "stdout",
     "output_type": "stream",
     "text": [
      "<class 'pandas.core.frame.DataFrame'>\n",
      "Int64Index: 9898 entries, 0 to 9999\n",
      "Data columns (total 11 columns):\n",
      " #   Column      Non-Null Count  Dtype  \n",
      "---  ------      --------------  -----  \n",
      " 0   Unnamed: 0  9898 non-null   int64  \n",
      " 1   ID          9898 non-null   float64\n",
      " 2   品牌          9898 non-null   object \n",
      " 3   车型          9898 non-null   object \n",
      " 4   具体型号        9898 non-null   object \n",
      " 5   上牌时间        9898 non-null   object \n",
      " 6   马力          9898 non-null   float64\n",
      " 7   变速箱类型       9898 non-null   object \n",
      " 8   燃料          9898 non-null   object \n",
      " 9   里程数(km)     9898 non-null   float64\n",
      " 10  保值率         9898 non-null   float64\n",
      "dtypes: float64(4), int64(1), object(6)\n",
      "memory usage: 927.9+ KB\n"
     ]
    }
   ],
   "source": [
    "# 删除'品牌'， '上牌时间'， '里程数(km)'， '保值率'四列数据缺失的行\n",
    "test_data = test_data.dropna(subset=['品牌', '上牌时间', '里程数(km)', '保值率'])\n",
    "# 查看 test_data 的基本信息总结\n",
    "test_data.info()"
   ]
  },
  {
   "cell_type": "code",
   "execution_count": 28,
   "metadata": {},
   "outputs": [
    {
     "data": {
      "text/plain": [
       "0         False\n",
       "1         False\n",
       "2         False\n",
       "3          True\n",
       "4          True\n",
       "          ...  \n",
       "100951    False\n",
       "100952    False\n",
       "100953    False\n",
       "100954    False\n",
       "100955    False\n",
       "Length: 100956, dtype: bool"
      ]
     },
     "execution_count": 28,
     "metadata": {},
     "output_type": "execute_result"
    }
   ],
   "source": [
    "# 查找 mask_data 中的重复行\n",
    "mask_data.duplicated()"
   ]
  },
  {
   "cell_type": "code",
   "execution_count": 29,
   "metadata": {},
   "outputs": [
    {
     "data": {
      "text/html": [
       "<div>\n",
       "<style scoped>\n",
       "    .dataframe tbody tr th:only-of-type {\n",
       "        vertical-align: middle;\n",
       "    }\n",
       "\n",
       "    .dataframe tbody tr th {\n",
       "        vertical-align: top;\n",
       "    }\n",
       "\n",
       "    .dataframe thead th {\n",
       "        text-align: right;\n",
       "    }\n",
       "</style>\n",
       "<table border=\"1\" class=\"dataframe\">\n",
       "  <thead>\n",
       "    <tr style=\"text-align: right;\">\n",
       "      <th></th>\n",
       "      <th>订单编号</th>\n",
       "      <th>日期</th>\n",
       "      <th>省</th>\n",
       "      <th>订单量</th>\n",
       "      <th>单价</th>\n",
       "      <th>销售额</th>\n",
       "    </tr>\n",
       "  </thead>\n",
       "  <tbody>\n",
       "    <tr>\n",
       "      <th>3</th>\n",
       "      <td>535a-4eca-8fa0-9cc54c66e11d</td>\n",
       "      <td>2020-01-01</td>\n",
       "      <td>河南</td>\n",
       "      <td>0.0</td>\n",
       "      <td>30.0</td>\n",
       "      <td>0.0</td>\n",
       "    </tr>\n",
       "    <tr>\n",
       "      <th>4</th>\n",
       "      <td>535a-4eca-8fa0-9cc54c66e11d</td>\n",
       "      <td>2020-01-01</td>\n",
       "      <td>河南</td>\n",
       "      <td>0.0</td>\n",
       "      <td>30.0</td>\n",
       "      <td>0.0</td>\n",
       "    </tr>\n",
       "    <tr>\n",
       "      <th>412</th>\n",
       "      <td>2b31-4392-be6e-19af71e40261</td>\n",
       "      <td>2020-01-09</td>\n",
       "      <td>河南</td>\n",
       "      <td>1.0</td>\n",
       "      <td>30.0</td>\n",
       "      <td>30.0</td>\n",
       "    </tr>\n",
       "    <tr>\n",
       "      <th>441</th>\n",
       "      <td>d707-4d5c-ac10-59d3fd3dc0bb</td>\n",
       "      <td>2020-01-10</td>\n",
       "      <td>广东</td>\n",
       "      <td>1.0</td>\n",
       "      <td>30.0</td>\n",
       "      <td>30.0</td>\n",
       "    </tr>\n",
       "    <tr>\n",
       "      <th>845</th>\n",
       "      <td>49f6-4bd5-97a5-aeb075a1c8c3</td>\n",
       "      <td>2020-01-16</td>\n",
       "      <td>湖北</td>\n",
       "      <td>8.0</td>\n",
       "      <td>40.0</td>\n",
       "      <td>320.0</td>\n",
       "    </tr>\n",
       "    <tr>\n",
       "      <th>...</th>\n",
       "      <td>...</td>\n",
       "      <td>...</td>\n",
       "      <td>...</td>\n",
       "      <td>...</td>\n",
       "      <td>...</td>\n",
       "      <td>...</td>\n",
       "    </tr>\n",
       "    <tr>\n",
       "      <th>100157</th>\n",
       "      <td>1ee1-41a6-8c0a-7c24f988689f</td>\n",
       "      <td>2020-06-25</td>\n",
       "      <td>湖北</td>\n",
       "      <td>8.0</td>\n",
       "      <td>30.0</td>\n",
       "      <td>240.0</td>\n",
       "    </tr>\n",
       "    <tr>\n",
       "      <th>100312</th>\n",
       "      <td>c72a-401d-8f11-39becb49d442</td>\n",
       "      <td>2020-06-26</td>\n",
       "      <td>湖北</td>\n",
       "      <td>9.0</td>\n",
       "      <td>30.0</td>\n",
       "      <td>270.0</td>\n",
       "    </tr>\n",
       "    <tr>\n",
       "      <th>100321</th>\n",
       "      <td>73f3-4d40-af4e-426548a7c539</td>\n",
       "      <td>2020-06-26</td>\n",
       "      <td>广东</td>\n",
       "      <td>3.0</td>\n",
       "      <td>30.0</td>\n",
       "      <td>90.0</td>\n",
       "    </tr>\n",
       "    <tr>\n",
       "      <th>100330</th>\n",
       "      <td>1265-4d27-a5c6-d3d6f44cd594</td>\n",
       "      <td>2020-06-26</td>\n",
       "      <td>广东</td>\n",
       "      <td>3.0</td>\n",
       "      <td>30.0</td>\n",
       "      <td>90.0</td>\n",
       "    </tr>\n",
       "    <tr>\n",
       "      <th>100772</th>\n",
       "      <td>a56d-4415-ad6e-020cdb154c35</td>\n",
       "      <td>2020-06-29</td>\n",
       "      <td>其他</td>\n",
       "      <td>0.0</td>\n",
       "      <td>30.0</td>\n",
       "      <td>0.0</td>\n",
       "    </tr>\n",
       "  </tbody>\n",
       "</table>\n",
       "<p>448 rows × 6 columns</p>\n",
       "</div>"
      ],
      "text/plain": [
       "                               订单编号          日期   省  订单量    单价    销售额\n",
       "3       535a-4eca-8fa0-9cc54c66e11d  2020-01-01  河南  0.0  30.0    0.0\n",
       "4       535a-4eca-8fa0-9cc54c66e11d  2020-01-01  河南  0.0  30.0    0.0\n",
       "412     2b31-4392-be6e-19af71e40261  2020-01-09  河南  1.0  30.0   30.0\n",
       "441     d707-4d5c-ac10-59d3fd3dc0bb  2020-01-10  广东  1.0  30.0   30.0\n",
       "845     49f6-4bd5-97a5-aeb075a1c8c3  2020-01-16  湖北  8.0  40.0  320.0\n",
       "...                             ...         ...  ..  ...   ...    ...\n",
       "100157  1ee1-41a6-8c0a-7c24f988689f  2020-06-25  湖北  8.0  30.0  240.0\n",
       "100312  c72a-401d-8f11-39becb49d442  2020-06-26  湖北  9.0  30.0  270.0\n",
       "100321  73f3-4d40-af4e-426548a7c539  2020-06-26  广东  3.0  30.0   90.0\n",
       "100330  1265-4d27-a5c6-d3d6f44cd594  2020-06-26  广东  3.0  30.0   90.0\n",
       "100772  a56d-4415-ad6e-020cdb154c35  2020-06-29  其他  0.0  30.0    0.0\n",
       "\n",
       "[448 rows x 6 columns]"
      ]
     },
     "execution_count": 29,
     "metadata": {},
     "output_type": "execute_result"
    }
   ],
   "source": [
    "# 查看 mask_data 中的重复数据\n",
    "mask_data[mask_data.duplicated()]"
   ]
  },
  {
   "cell_type": "code",
   "execution_count": 30,
   "metadata": {},
   "outputs": [
    {
     "data": {
      "text/html": [
       "<div>\n",
       "<style scoped>\n",
       "    .dataframe tbody tr th:only-of-type {\n",
       "        vertical-align: middle;\n",
       "    }\n",
       "\n",
       "    .dataframe tbody tr th {\n",
       "        vertical-align: top;\n",
       "    }\n",
       "\n",
       "    .dataframe thead th {\n",
       "        text-align: right;\n",
       "    }\n",
       "</style>\n",
       "<table border=\"1\" class=\"dataframe\">\n",
       "  <thead>\n",
       "    <tr style=\"text-align: right;\">\n",
       "      <th></th>\n",
       "      <th>订单编号</th>\n",
       "      <th>日期</th>\n",
       "      <th>省</th>\n",
       "      <th>订单量</th>\n",
       "      <th>单价</th>\n",
       "      <th>销售额</th>\n",
       "    </tr>\n",
       "  </thead>\n",
       "  <tbody>\n",
       "  </tbody>\n",
       "</table>\n",
       "</div>"
      ],
      "text/plain": [
       "Empty DataFrame\n",
       "Columns: [订单编号, 日期, 省, 订单量, 单价, 销售额]\n",
       "Index: []"
      ]
     },
     "execution_count": 30,
     "metadata": {},
     "output_type": "execute_result"
    }
   ],
   "source": [
    "# 直接删除所有重复值\n",
    "mask_data = mask_data.drop_duplicates()\n",
    "# 查看 mask_data 中的重复数据\n",
    "mask_data[mask_data.duplicated()]"
   ]
  },
  {
   "cell_type": "code",
   "execution_count": 31,
   "metadata": {},
   "outputs": [
    {
     "name": "stdout",
     "output_type": "stream",
     "text": [
      "<class 'pandas.core.frame.DataFrame'>\n",
      "Int64Index: 100508 entries, 0 to 100955\n",
      "Data columns (total 6 columns):\n",
      " #   Column  Non-Null Count   Dtype  \n",
      "---  ------  --------------   -----  \n",
      " 0   订单编号    100508 non-null  object \n",
      " 1   日期      100508 non-null  object \n",
      " 2   省       100508 non-null  object \n",
      " 3   订单量     100508 non-null  float64\n",
      " 4   单价      100508 non-null  float64\n",
      " 5   销售额     100508 non-null  float64\n",
      "dtypes: float64(3), object(3)\n",
      "memory usage: 5.4+ MB\n"
     ]
    }
   ],
   "source": [
    "# 查看清洗后的基本信息总结\n",
    "mask_data.info()"
   ]
  },
  {
   "cell_type": "code",
   "execution_count": 32,
   "metadata": {},
   "outputs": [
    {
     "data": {
      "text/html": [
       "<div>\n",
       "<style scoped>\n",
       "    .dataframe tbody tr th:only-of-type {\n",
       "        vertical-align: middle;\n",
       "    }\n",
       "\n",
       "    .dataframe tbody tr th {\n",
       "        vertical-align: top;\n",
       "    }\n",
       "\n",
       "    .dataframe thead th {\n",
       "        text-align: right;\n",
       "    }\n",
       "</style>\n",
       "<table border=\"1\" class=\"dataframe\">\n",
       "  <thead>\n",
       "    <tr style=\"text-align: right;\">\n",
       "      <th></th>\n",
       "      <th>Unnamed: 0</th>\n",
       "      <th>ID</th>\n",
       "      <th>品牌</th>\n",
       "      <th>车型</th>\n",
       "      <th>具体型号</th>\n",
       "      <th>上牌时间</th>\n",
       "      <th>马力</th>\n",
       "      <th>变速箱类型</th>\n",
       "      <th>燃料</th>\n",
       "      <th>里程数(km)</th>\n",
       "      <th>保值率</th>\n",
       "    </tr>\n",
       "  </thead>\n",
       "  <tbody>\n",
       "  </tbody>\n",
       "</table>\n",
       "</div>"
      ],
      "text/plain": [
       "Empty DataFrame\n",
       "Columns: [Unnamed: 0, ID, 品牌, 车型, 具体型号, 上牌时间, 马力, 变速箱类型, 燃料, 里程数(km), 保值率]\n",
       "Index: []"
      ]
     },
     "execution_count": 32,
     "metadata": {},
     "output_type": "execute_result"
    }
   ],
   "source": [
    "# 直接删除 test_data 所有重复行\n",
    "test_data = test_data.drop_duplicates()\n",
    "# 查看 test_data 中的重复行\n",
    "test_data[test_data.duplicated()]"
   ]
  },
  {
   "cell_type": "code",
   "execution_count": 33,
   "metadata": {},
   "outputs": [
    {
     "data": {
      "text/html": [
       "<div>\n",
       "<style scoped>\n",
       "    .dataframe tbody tr th:only-of-type {\n",
       "        vertical-align: middle;\n",
       "    }\n",
       "\n",
       "    .dataframe tbody tr th {\n",
       "        vertical-align: top;\n",
       "    }\n",
       "\n",
       "    .dataframe thead th {\n",
       "        text-align: right;\n",
       "    }\n",
       "</style>\n",
       "<table border=\"1\" class=\"dataframe\">\n",
       "  <thead>\n",
       "    <tr style=\"text-align: right;\">\n",
       "      <th></th>\n",
       "      <th>订单量</th>\n",
       "      <th>单价</th>\n",
       "      <th>销售额</th>\n",
       "    </tr>\n",
       "  </thead>\n",
       "  <tbody>\n",
       "    <tr>\n",
       "      <th>count</th>\n",
       "      <td>1.005080e+05</td>\n",
       "      <td>1.005080e+05</td>\n",
       "      <td>1.005080e+05</td>\n",
       "    </tr>\n",
       "    <tr>\n",
       "      <th>mean</th>\n",
       "      <td>9.551786e+05</td>\n",
       "      <td>9.552499e+05</td>\n",
       "      <td>9.592048e+05</td>\n",
       "    </tr>\n",
       "    <tr>\n",
       "      <th>std</th>\n",
       "      <td>3.089086e+07</td>\n",
       "      <td>3.089085e+07</td>\n",
       "      <td>3.089073e+07</td>\n",
       "    </tr>\n",
       "    <tr>\n",
       "      <th>min</th>\n",
       "      <td>0.000000e+00</td>\n",
       "      <td>3.000000e+01</td>\n",
       "      <td>0.000000e+00</td>\n",
       "    </tr>\n",
       "    <tr>\n",
       "      <th>25%</th>\n",
       "      <td>9.000000e+00</td>\n",
       "      <td>5.000000e+01</td>\n",
       "      <td>5.500000e+02</td>\n",
       "    </tr>\n",
       "    <tr>\n",
       "      <th>50%</th>\n",
       "      <td>2.000000e+01</td>\n",
       "      <td>5.000000e+01</td>\n",
       "      <td>1.700000e+03</td>\n",
       "    </tr>\n",
       "    <tr>\n",
       "      <th>75%</th>\n",
       "      <td>4.700000e+01</td>\n",
       "      <td>1.500000e+02</td>\n",
       "      <td>4.000000e+03</td>\n",
       "    </tr>\n",
       "    <tr>\n",
       "      <th>max</th>\n",
       "      <td>1.000000e+09</td>\n",
       "      <td>1.000000e+09</td>\n",
       "      <td>1.000000e+09</td>\n",
       "    </tr>\n",
       "  </tbody>\n",
       "</table>\n",
       "</div>"
      ],
      "text/plain": [
       "                订单量            单价           销售额\n",
       "count  1.005080e+05  1.005080e+05  1.005080e+05\n",
       "mean   9.551786e+05  9.552499e+05  9.592048e+05\n",
       "std    3.089086e+07  3.089085e+07  3.089073e+07\n",
       "min    0.000000e+00  3.000000e+01  0.000000e+00\n",
       "25%    9.000000e+00  5.000000e+01  5.500000e+02\n",
       "50%    2.000000e+01  5.000000e+01  1.700000e+03\n",
       "75%    4.700000e+01  1.500000e+02  4.000000e+03\n",
       "max    1.000000e+09  1.000000e+09  1.000000e+09"
      ]
     },
     "execution_count": 33,
     "metadata": {},
     "output_type": "execute_result"
    }
   ],
   "source": [
    "# 查看口罩厂数据 mask_data 的描述性统计信息\n",
    "mask_data.describe()"
   ]
  },
  {
   "cell_type": "code",
   "execution_count": 34,
   "metadata": {},
   "outputs": [
    {
     "data": {
      "text/html": [
       "<div>\n",
       "<style scoped>\n",
       "    .dataframe tbody tr th:only-of-type {\n",
       "        vertical-align: middle;\n",
       "    }\n",
       "\n",
       "    .dataframe tbody tr th {\n",
       "        vertical-align: top;\n",
       "    }\n",
       "\n",
       "    .dataframe thead th {\n",
       "        text-align: right;\n",
       "    }\n",
       "</style>\n",
       "<table border=\"1\" class=\"dataframe\">\n",
       "  <thead>\n",
       "    <tr style=\"text-align: right;\">\n",
       "      <th></th>\n",
       "      <th>订单编号</th>\n",
       "      <th>日期</th>\n",
       "      <th>省</th>\n",
       "      <th>订单量</th>\n",
       "      <th>单价</th>\n",
       "      <th>销售额</th>\n",
       "    </tr>\n",
       "  </thead>\n",
       "  <tbody>\n",
       "    <tr>\n",
       "      <th>0</th>\n",
       "      <td>87af-48e5-8bed-c5dcf9ecc172</td>\n",
       "      <td>2020-01-01</td>\n",
       "      <td>广东</td>\n",
       "      <td>0.0</td>\n",
       "      <td>30.0</td>\n",
       "      <td>0.0</td>\n",
       "    </tr>\n",
       "    <tr>\n",
       "      <th>1</th>\n",
       "      <td>535a-4eca-8fa0-9cc54c66e11d</td>\n",
       "      <td>2020-01-01</td>\n",
       "      <td>河南</td>\n",
       "      <td>0.0</td>\n",
       "      <td>30.0</td>\n",
       "      <td>0.0</td>\n",
       "    </tr>\n",
       "    <tr>\n",
       "      <th>2</th>\n",
       "      <td>a56d-4415-ad6e-020cdb154c35</td>\n",
       "      <td>2020-01-01</td>\n",
       "      <td>湖北</td>\n",
       "      <td>1.0</td>\n",
       "      <td>30.0</td>\n",
       "      <td>30.0</td>\n",
       "    </tr>\n",
       "    <tr>\n",
       "      <th>5</th>\n",
       "      <td>953f-4b46-a8a2-0eb0e39818a8</td>\n",
       "      <td>2020-01-01</td>\n",
       "      <td>其他</td>\n",
       "      <td>0.0</td>\n",
       "      <td>30.0</td>\n",
       "      <td>0.0</td>\n",
       "    </tr>\n",
       "    <tr>\n",
       "      <th>6</th>\n",
       "      <td>953f-4b46-a8a2-0eb0e39818a8</td>\n",
       "      <td>2020-01-01</td>\n",
       "      <td>湖北</td>\n",
       "      <td>1.0</td>\n",
       "      <td>30.0</td>\n",
       "      <td>30.0</td>\n",
       "    </tr>\n",
       "    <tr>\n",
       "      <th>...</th>\n",
       "      <td>...</td>\n",
       "      <td>...</td>\n",
       "      <td>...</td>\n",
       "      <td>...</td>\n",
       "      <td>...</td>\n",
       "      <td>...</td>\n",
       "    </tr>\n",
       "    <tr>\n",
       "      <th>100951</th>\n",
       "      <td>8cad-41ee-85b7-c59b85f0ebe6</td>\n",
       "      <td>2020-06-30</td>\n",
       "      <td>湖北</td>\n",
       "      <td>10.0</td>\n",
       "      <td>30.0</td>\n",
       "      <td>300.0</td>\n",
       "    </tr>\n",
       "    <tr>\n",
       "      <th>100952</th>\n",
       "      <td>4ea4-480a-a070-295408955363</td>\n",
       "      <td>2020-06-30</td>\n",
       "      <td>湖北</td>\n",
       "      <td>6.0</td>\n",
       "      <td>30.0</td>\n",
       "      <td>180.0</td>\n",
       "    </tr>\n",
       "    <tr>\n",
       "      <th>100953</th>\n",
       "      <td>70f3-4461-9b5f-7f53a55c51b6</td>\n",
       "      <td>2020-06-30</td>\n",
       "      <td>湖北</td>\n",
       "      <td>10.0</td>\n",
       "      <td>30.0</td>\n",
       "      <td>300.0</td>\n",
       "    </tr>\n",
       "    <tr>\n",
       "      <th>100954</th>\n",
       "      <td>9cc8-4542-8fed-3145e1942504</td>\n",
       "      <td>2020-06-30</td>\n",
       "      <td>湖北</td>\n",
       "      <td>10.0</td>\n",
       "      <td>30.0</td>\n",
       "      <td>300.0</td>\n",
       "    </tr>\n",
       "    <tr>\n",
       "      <th>100955</th>\n",
       "      <td>f202-45df-96e2-ca4e4c389624</td>\n",
       "      <td>2020-06-30</td>\n",
       "      <td>湖北</td>\n",
       "      <td>5.0</td>\n",
       "      <td>30.0</td>\n",
       "      <td>150.0</td>\n",
       "    </tr>\n",
       "  </tbody>\n",
       "</table>\n",
       "<p>100412 rows × 6 columns</p>\n",
       "</div>"
      ],
      "text/plain": [
       "                               订单编号          日期   省   订单量    单价    销售额\n",
       "0       87af-48e5-8bed-c5dcf9ecc172  2020-01-01  广东   0.0  30.0    0.0\n",
       "1       535a-4eca-8fa0-9cc54c66e11d  2020-01-01  河南   0.0  30.0    0.0\n",
       "2       a56d-4415-ad6e-020cdb154c35  2020-01-01  湖北   1.0  30.0   30.0\n",
       "5       953f-4b46-a8a2-0eb0e39818a8  2020-01-01  其他   0.0  30.0    0.0\n",
       "6       953f-4b46-a8a2-0eb0e39818a8  2020-01-01  湖北   1.0  30.0   30.0\n",
       "...                             ...         ...  ..   ...   ...    ...\n",
       "100951  8cad-41ee-85b7-c59b85f0ebe6  2020-06-30  湖北  10.0  30.0  300.0\n",
       "100952  4ea4-480a-a070-295408955363  2020-06-30  湖北   6.0  30.0  180.0\n",
       "100953  70f3-4461-9b5f-7f53a55c51b6  2020-06-30  湖北  10.0  30.0  300.0\n",
       "100954  9cc8-4542-8fed-3145e1942504  2020-06-30  湖北  10.0  30.0  300.0\n",
       "100955  f202-45df-96e2-ca4e4c389624  2020-06-30  湖北   5.0  30.0  150.0\n",
       "\n",
       "[100412 rows x 6 columns]"
      ]
     },
     "execution_count": 34,
     "metadata": {},
     "output_type": "execute_result"
    }
   ],
   "source": [
    "# 查看单价小于等于 200 的数据\n",
    "mask_data[mask_data['单价'] <= 200]"
   ]
  },
  {
   "cell_type": "code",
   "execution_count": 35,
   "metadata": {},
   "outputs": [
    {
     "data": {
      "text/html": [
       "<div>\n",
       "<style scoped>\n",
       "    .dataframe tbody tr th:only-of-type {\n",
       "        vertical-align: middle;\n",
       "    }\n",
       "\n",
       "    .dataframe tbody tr th {\n",
       "        vertical-align: top;\n",
       "    }\n",
       "\n",
       "    .dataframe thead th {\n",
       "        text-align: right;\n",
       "    }\n",
       "</style>\n",
       "<table border=\"1\" class=\"dataframe\">\n",
       "  <thead>\n",
       "    <tr style=\"text-align: right;\">\n",
       "      <th></th>\n",
       "      <th>订单量</th>\n",
       "      <th>单价</th>\n",
       "      <th>销售额</th>\n",
       "    </tr>\n",
       "  </thead>\n",
       "  <tbody>\n",
       "    <tr>\n",
       "      <th>count</th>\n",
       "      <td>100412.000000</td>\n",
       "      <td>100412.000000</td>\n",
       "      <td>100412.000000</td>\n",
       "    </tr>\n",
       "    <tr>\n",
       "      <th>mean</th>\n",
       "      <td>30.786529</td>\n",
       "      <td>102.161793</td>\n",
       "      <td>4060.837350</td>\n",
       "    </tr>\n",
       "    <tr>\n",
       "      <th>std</th>\n",
       "      <td>27.639737</td>\n",
       "      <td>63.533396</td>\n",
       "      <td>5278.401132</td>\n",
       "    </tr>\n",
       "    <tr>\n",
       "      <th>min</th>\n",
       "      <td>0.000000</td>\n",
       "      <td>30.000000</td>\n",
       "      <td>0.000000</td>\n",
       "    </tr>\n",
       "    <tr>\n",
       "      <th>25%</th>\n",
       "      <td>9.000000</td>\n",
       "      <td>50.000000</td>\n",
       "      <td>550.000000</td>\n",
       "    </tr>\n",
       "    <tr>\n",
       "      <th>50%</th>\n",
       "      <td>20.000000</td>\n",
       "      <td>50.000000</td>\n",
       "      <td>1700.000000</td>\n",
       "    </tr>\n",
       "    <tr>\n",
       "      <th>75%</th>\n",
       "      <td>47.000000</td>\n",
       "      <td>150.000000</td>\n",
       "      <td>4000.000000</td>\n",
       "    </tr>\n",
       "    <tr>\n",
       "      <th>max</th>\n",
       "      <td>100.000000</td>\n",
       "      <td>200.000000</td>\n",
       "      <td>20000.000000</td>\n",
       "    </tr>\n",
       "  </tbody>\n",
       "</table>\n",
       "</div>"
      ],
      "text/plain": [
       "                 订单量             单价            销售额\n",
       "count  100412.000000  100412.000000  100412.000000\n",
       "mean       30.786529     102.161793    4060.837350\n",
       "std        27.639737      63.533396    5278.401132\n",
       "min         0.000000      30.000000       0.000000\n",
       "25%         9.000000      50.000000     550.000000\n",
       "50%        20.000000      50.000000    1700.000000\n",
       "75%        47.000000     150.000000    4000.000000\n",
       "max       100.000000     200.000000   20000.000000"
      ]
     },
     "execution_count": 35,
     "metadata": {},
     "output_type": "execute_result"
    }
   ],
   "source": [
    "# 筛选单价小于等于 200 的数据\n",
    "mask_data = mask_data[mask_data['单价'] <= 200]\n",
    "# 查看 mask_data 的描述性统计信息\n",
    "mask_data.describe()"
   ]
  },
  {
   "cell_type": "code",
   "execution_count": 36,
   "metadata": {},
   "outputs": [
    {
     "data": {
      "text/html": [
       "<div>\n",
       "<style scoped>\n",
       "    .dataframe tbody tr th:only-of-type {\n",
       "        vertical-align: middle;\n",
       "    }\n",
       "\n",
       "    .dataframe tbody tr th {\n",
       "        vertical-align: top;\n",
       "    }\n",
       "\n",
       "    .dataframe thead th {\n",
       "        text-align: right;\n",
       "    }\n",
       "</style>\n",
       "<table border=\"1\" class=\"dataframe\">\n",
       "  <thead>\n",
       "    <tr style=\"text-align: right;\">\n",
       "      <th></th>\n",
       "      <th>订单量</th>\n",
       "      <th>单价</th>\n",
       "      <th>销售额</th>\n",
       "    </tr>\n",
       "  </thead>\n",
       "  <tbody>\n",
       "    <tr>\n",
       "      <th>count</th>\n",
       "      <td>99485.000000</td>\n",
       "      <td>99485.000000</td>\n",
       "      <td>99485.000000</td>\n",
       "    </tr>\n",
       "    <tr>\n",
       "      <th>mean</th>\n",
       "      <td>31.073398</td>\n",
       "      <td>102.763130</td>\n",
       "      <td>4098.676182</td>\n",
       "    </tr>\n",
       "    <tr>\n",
       "      <th>std</th>\n",
       "      <td>27.607238</td>\n",
       "      <td>63.486035</td>\n",
       "      <td>5288.293082</td>\n",
       "    </tr>\n",
       "    <tr>\n",
       "      <th>min</th>\n",
       "      <td>1.000000</td>\n",
       "      <td>30.000000</td>\n",
       "      <td>30.000000</td>\n",
       "    </tr>\n",
       "    <tr>\n",
       "      <th>25%</th>\n",
       "      <td>9.000000</td>\n",
       "      <td>50.000000</td>\n",
       "      <td>560.000000</td>\n",
       "    </tr>\n",
       "    <tr>\n",
       "      <th>50%</th>\n",
       "      <td>20.000000</td>\n",
       "      <td>100.000000</td>\n",
       "      <td>1750.000000</td>\n",
       "    </tr>\n",
       "    <tr>\n",
       "      <th>75%</th>\n",
       "      <td>47.000000</td>\n",
       "      <td>150.000000</td>\n",
       "      <td>4000.000000</td>\n",
       "    </tr>\n",
       "    <tr>\n",
       "      <th>max</th>\n",
       "      <td>100.000000</td>\n",
       "      <td>200.000000</td>\n",
       "      <td>20000.000000</td>\n",
       "    </tr>\n",
       "  </tbody>\n",
       "</table>\n",
       "</div>"
      ],
      "text/plain": [
       "                订单量            单价           销售额\n",
       "count  99485.000000  99485.000000  99485.000000\n",
       "mean      31.073398    102.763130   4098.676182\n",
       "std       27.607238     63.486035   5288.293082\n",
       "min        1.000000     30.000000     30.000000\n",
       "25%        9.000000     50.000000    560.000000\n",
       "50%       20.000000    100.000000   1750.000000\n",
       "75%       47.000000    150.000000   4000.000000\n",
       "max      100.000000    200.000000  20000.000000"
      ]
     },
     "execution_count": 36,
     "metadata": {},
     "output_type": "execute_result"
    }
   ],
   "source": [
    "# 筛选订单量大于0的数据\n",
    "mask_data = mask_data[mask_data['订单量'] > 0]\n",
    "# 查看 mask_data 的描述性统计信息\n",
    "mask_data.describe()"
   ]
  },
  {
   "cell_type": "code",
   "execution_count": 37,
   "metadata": {},
   "outputs": [
    {
     "data": {
      "text/plain": [
       "2        2020-01-01\n",
       "6        2020-01-01\n",
       "11       2020-01-01\n",
       "12       2020-01-01\n",
       "13       2020-01-01\n",
       "            ...    \n",
       "100951   2020-06-30\n",
       "100952   2020-06-30\n",
       "100953   2020-06-30\n",
       "100954   2020-06-30\n",
       "100955   2020-06-30\n",
       "Name: 日期, Length: 99485, dtype: datetime64[ns]"
      ]
     },
     "execution_count": 37,
     "metadata": {},
     "output_type": "execute_result"
    }
   ],
   "source": [
    "# 转换日期数据，并设置对应的日期格式\n",
    "date_data = pd.to_datetime(mask_data['日期'], format = '%Y-%m-%d')\n",
    "# 查看 date_data\n",
    "date_data"
   ]
  },
  {
   "cell_type": "code",
   "execution_count": 38,
   "metadata": {},
   "outputs": [
    {
     "data": {
      "text/plain": [
       "2         1\n",
       "6         1\n",
       "11        1\n",
       "12        1\n",
       "13        1\n",
       "         ..\n",
       "100951    6\n",
       "100952    6\n",
       "100953    6\n",
       "100954    6\n",
       "100955    6\n",
       "Name: 日期, Length: 99485, dtype: int64"
      ]
     },
     "execution_count": 38,
     "metadata": {},
     "output_type": "execute_result"
    }
   ],
   "source": [
    "# 提取日期数据中的月份信息\n",
    "month_data = date_data.dt.month\n",
    "# 查看 month_data\n",
    "month_data"
   ]
  },
  {
   "cell_type": "code",
   "execution_count": 39,
   "metadata": {},
   "outputs": [
    {
     "data": {
      "text/html": [
       "<div>\n",
       "<style scoped>\n",
       "    .dataframe tbody tr th:only-of-type {\n",
       "        vertical-align: middle;\n",
       "    }\n",
       "\n",
       "    .dataframe tbody tr th {\n",
       "        vertical-align: top;\n",
       "    }\n",
       "\n",
       "    .dataframe thead th {\n",
       "        text-align: right;\n",
       "    }\n",
       "</style>\n",
       "<table border=\"1\" class=\"dataframe\">\n",
       "  <thead>\n",
       "    <tr style=\"text-align: right;\">\n",
       "      <th></th>\n",
       "      <th>订单编号</th>\n",
       "      <th>日期</th>\n",
       "      <th>省</th>\n",
       "      <th>订单量</th>\n",
       "      <th>单价</th>\n",
       "      <th>销售额</th>\n",
       "      <th>月份</th>\n",
       "    </tr>\n",
       "  </thead>\n",
       "  <tbody>\n",
       "    <tr>\n",
       "      <th>2</th>\n",
       "      <td>a56d-4415-ad6e-020cdb154c35</td>\n",
       "      <td>2020-01-01</td>\n",
       "      <td>湖北</td>\n",
       "      <td>1.0</td>\n",
       "      <td>30.0</td>\n",
       "      <td>30.0</td>\n",
       "      <td>1</td>\n",
       "    </tr>\n",
       "    <tr>\n",
       "      <th>6</th>\n",
       "      <td>953f-4b46-a8a2-0eb0e39818a8</td>\n",
       "      <td>2020-01-01</td>\n",
       "      <td>湖北</td>\n",
       "      <td>1.0</td>\n",
       "      <td>30.0</td>\n",
       "      <td>30.0</td>\n",
       "      <td>1</td>\n",
       "    </tr>\n",
       "    <tr>\n",
       "      <th>11</th>\n",
       "      <td>87af-48e5-8bed-c5dcf9ecc172</td>\n",
       "      <td>2020-01-01</td>\n",
       "      <td>湖北</td>\n",
       "      <td>1.0</td>\n",
       "      <td>30.0</td>\n",
       "      <td>30.0</td>\n",
       "      <td>1</td>\n",
       "    </tr>\n",
       "    <tr>\n",
       "      <th>12</th>\n",
       "      <td>535a-4eca-8fa0-9cc54c66e11d</td>\n",
       "      <td>2020-01-01</td>\n",
       "      <td>湖南</td>\n",
       "      <td>1.0</td>\n",
       "      <td>30.0</td>\n",
       "      <td>30.0</td>\n",
       "      <td>1</td>\n",
       "    </tr>\n",
       "    <tr>\n",
       "      <th>13</th>\n",
       "      <td>d707-4d5c-ac10-59d3fd3dc0bb</td>\n",
       "      <td>2020-01-01</td>\n",
       "      <td>广东</td>\n",
       "      <td>1.0</td>\n",
       "      <td>30.0</td>\n",
       "      <td>30.0</td>\n",
       "      <td>1</td>\n",
       "    </tr>\n",
       "    <tr>\n",
       "      <th>...</th>\n",
       "      <td>...</td>\n",
       "      <td>...</td>\n",
       "      <td>...</td>\n",
       "      <td>...</td>\n",
       "      <td>...</td>\n",
       "      <td>...</td>\n",
       "      <td>...</td>\n",
       "    </tr>\n",
       "    <tr>\n",
       "      <th>100951</th>\n",
       "      <td>8cad-41ee-85b7-c59b85f0ebe6</td>\n",
       "      <td>2020-06-30</td>\n",
       "      <td>湖北</td>\n",
       "      <td>10.0</td>\n",
       "      <td>30.0</td>\n",
       "      <td>300.0</td>\n",
       "      <td>6</td>\n",
       "    </tr>\n",
       "    <tr>\n",
       "      <th>100952</th>\n",
       "      <td>4ea4-480a-a070-295408955363</td>\n",
       "      <td>2020-06-30</td>\n",
       "      <td>湖北</td>\n",
       "      <td>6.0</td>\n",
       "      <td>30.0</td>\n",
       "      <td>180.0</td>\n",
       "      <td>6</td>\n",
       "    </tr>\n",
       "    <tr>\n",
       "      <th>100953</th>\n",
       "      <td>70f3-4461-9b5f-7f53a55c51b6</td>\n",
       "      <td>2020-06-30</td>\n",
       "      <td>湖北</td>\n",
       "      <td>10.0</td>\n",
       "      <td>30.0</td>\n",
       "      <td>300.0</td>\n",
       "      <td>6</td>\n",
       "    </tr>\n",
       "    <tr>\n",
       "      <th>100954</th>\n",
       "      <td>9cc8-4542-8fed-3145e1942504</td>\n",
       "      <td>2020-06-30</td>\n",
       "      <td>湖北</td>\n",
       "      <td>10.0</td>\n",
       "      <td>30.0</td>\n",
       "      <td>300.0</td>\n",
       "      <td>6</td>\n",
       "    </tr>\n",
       "    <tr>\n",
       "      <th>100955</th>\n",
       "      <td>f202-45df-96e2-ca4e4c389624</td>\n",
       "      <td>2020-06-30</td>\n",
       "      <td>湖北</td>\n",
       "      <td>5.0</td>\n",
       "      <td>30.0</td>\n",
       "      <td>150.0</td>\n",
       "      <td>6</td>\n",
       "    </tr>\n",
       "  </tbody>\n",
       "</table>\n",
       "<p>99485 rows × 7 columns</p>\n",
       "</div>"
      ],
      "text/plain": [
       "                               订单编号          日期   省   订单量    单价    销售额  月份\n",
       "2       a56d-4415-ad6e-020cdb154c35  2020-01-01  湖北   1.0  30.0   30.0   1\n",
       "6       953f-4b46-a8a2-0eb0e39818a8  2020-01-01  湖北   1.0  30.0   30.0   1\n",
       "11      87af-48e5-8bed-c5dcf9ecc172  2020-01-01  湖北   1.0  30.0   30.0   1\n",
       "12      535a-4eca-8fa0-9cc54c66e11d  2020-01-01  湖南   1.0  30.0   30.0   1\n",
       "13      d707-4d5c-ac10-59d3fd3dc0bb  2020-01-01  广东   1.0  30.0   30.0   1\n",
       "...                             ...         ...  ..   ...   ...    ...  ..\n",
       "100951  8cad-41ee-85b7-c59b85f0ebe6  2020-06-30  湖北  10.0  30.0  300.0   6\n",
       "100952  4ea4-480a-a070-295408955363  2020-06-30  湖北   6.0  30.0  180.0   6\n",
       "100953  70f3-4461-9b5f-7f53a55c51b6  2020-06-30  湖北  10.0  30.0  300.0   6\n",
       "100954  9cc8-4542-8fed-3145e1942504  2020-06-30  湖北  10.0  30.0  300.0   6\n",
       "100955  f202-45df-96e2-ca4e4c389624  2020-06-30  湖北   5.0  30.0  150.0   6\n",
       "\n",
       "[99485 rows x 7 columns]"
      ]
     },
     "execution_count": 39,
     "metadata": {},
     "output_type": "execute_result"
    }
   ],
   "source": [
    "# 将月份数据添加到原数据中\n",
    "mask_data['月份'] = month_data\n",
    "# 查看原数据\n",
    "mask_data"
   ]
  },
  {
   "cell_type": "code",
   "execution_count": 40,
   "metadata": {},
   "outputs": [
    {
     "data": {
      "text/html": [
       "<div>\n",
       "<style scoped>\n",
       "    .dataframe tbody tr th:only-of-type {\n",
       "        vertical-align: middle;\n",
       "    }\n",
       "\n",
       "    .dataframe tbody tr th {\n",
       "        vertical-align: top;\n",
       "    }\n",
       "\n",
       "    .dataframe thead th {\n",
       "        text-align: right;\n",
       "    }\n",
       "</style>\n",
       "<table border=\"1\" class=\"dataframe\">\n",
       "  <thead>\n",
       "    <tr style=\"text-align: right;\">\n",
       "      <th></th>\n",
       "      <th>Unnamed: 0</th>\n",
       "      <th>ID</th>\n",
       "      <th>品牌</th>\n",
       "      <th>车型</th>\n",
       "      <th>具体型号</th>\n",
       "      <th>上牌时间</th>\n",
       "      <th>马力</th>\n",
       "      <th>变速箱类型</th>\n",
       "      <th>燃料</th>\n",
       "      <th>里程数(km)</th>\n",
       "      <th>保值率</th>\n",
       "      <th>上牌年份</th>\n",
       "    </tr>\n",
       "  </thead>\n",
       "  <tbody>\n",
       "    <tr>\n",
       "      <th>0</th>\n",
       "      <td>0</td>\n",
       "      <td>54632.0</td>\n",
       "      <td>大众</td>\n",
       "      <td>Golf</td>\n",
       "      <td>1.2 Tsi Bmt Special Edition 110</td>\n",
       "      <td>2017-01-01</td>\n",
       "      <td>81.0</td>\n",
       "      <td>手动</td>\n",
       "      <td>汽油</td>\n",
       "      <td>10000.0</td>\n",
       "      <td>0.54</td>\n",
       "      <td>2017</td>\n",
       "    </tr>\n",
       "    <tr>\n",
       "      <th>1</th>\n",
       "      <td>1</td>\n",
       "      <td>46820.0</td>\n",
       "      <td>雷诺</td>\n",
       "      <td>GrandScenic</td>\n",
       "      <td>G.Sc�nic 1.5Dci Energy Selection 7Pl.</td>\n",
       "      <td>2016-07-01</td>\n",
       "      <td>81.0</td>\n",
       "      <td>手动</td>\n",
       "      <td>柴油</td>\n",
       "      <td>12600.0</td>\n",
       "      <td>0.51</td>\n",
       "      <td>2016</td>\n",
       "    </tr>\n",
       "    <tr>\n",
       "      <th>2</th>\n",
       "      <td>2</td>\n",
       "      <td>111350.0</td>\n",
       "      <td>沃尔沃</td>\n",
       "      <td>V40</td>\n",
       "      <td>D-3 Momentum 150Cv Auto. 5P</td>\n",
       "      <td>2014-03-01</td>\n",
       "      <td>110.0</td>\n",
       "      <td>自动</td>\n",
       "      <td>柴油</td>\n",
       "      <td>93574.0</td>\n",
       "      <td>0.62</td>\n",
       "      <td>2014</td>\n",
       "    </tr>\n",
       "    <tr>\n",
       "      <th>3</th>\n",
       "      <td>3</td>\n",
       "      <td>77294.0</td>\n",
       "      <td>现代</td>\n",
       "      <td>Ix20</td>\n",
       "      <td>1.6 Crdi Bluedrive Comfort 85Kw (115Cv)</td>\n",
       "      <td>2012-12-01</td>\n",
       "      <td>85.0</td>\n",
       "      <td>手动</td>\n",
       "      <td>柴油</td>\n",
       "      <td>96000.0</td>\n",
       "      <td>0.66</td>\n",
       "      <td>2012</td>\n",
       "    </tr>\n",
       "    <tr>\n",
       "      <th>4</th>\n",
       "      <td>4</td>\n",
       "      <td>24668.0</td>\n",
       "      <td>福特</td>\n",
       "      <td>Focus</td>\n",
       "      <td>1.6Tdci Business</td>\n",
       "      <td>2009-12-01</td>\n",
       "      <td>66.0</td>\n",
       "      <td>手动</td>\n",
       "      <td>柴油</td>\n",
       "      <td>142000.0</td>\n",
       "      <td>0.65</td>\n",
       "      <td>2009</td>\n",
       "    </tr>\n",
       "    <tr>\n",
       "      <th>...</th>\n",
       "      <td>...</td>\n",
       "      <td>...</td>\n",
       "      <td>...</td>\n",
       "      <td>...</td>\n",
       "      <td>...</td>\n",
       "      <td>...</td>\n",
       "      <td>...</td>\n",
       "      <td>...</td>\n",
       "      <td>...</td>\n",
       "      <td>...</td>\n",
       "      <td>...</td>\n",
       "      <td>...</td>\n",
       "    </tr>\n",
       "    <tr>\n",
       "      <th>9995</th>\n",
       "      <td>9995</td>\n",
       "      <td>30644.0</td>\n",
       "      <td>奔驰</td>\n",
       "      <td>A200</td>\n",
       "      <td>Cdi Be Urban</td>\n",
       "      <td>2015-12-01</td>\n",
       "      <td>100.0</td>\n",
       "      <td>手动</td>\n",
       "      <td>柴油</td>\n",
       "      <td>50000.0</td>\n",
       "      <td>0.68</td>\n",
       "      <td>2015</td>\n",
       "    </tr>\n",
       "    <tr>\n",
       "      <th>9996</th>\n",
       "      <td>9996</td>\n",
       "      <td>69278.0</td>\n",
       "      <td>雪铁龙</td>\n",
       "      <td>Jumper</td>\n",
       "      <td>Bluehdi L2H1 Furg�n</td>\n",
       "      <td>2018-02-01</td>\n",
       "      <td>85.0</td>\n",
       "      <td>手动</td>\n",
       "      <td>柴油</td>\n",
       "      <td>1.0</td>\n",
       "      <td>0.69</td>\n",
       "      <td>2018</td>\n",
       "    </tr>\n",
       "    <tr>\n",
       "      <th>9997</th>\n",
       "      <td>9997</td>\n",
       "      <td>4788.0</td>\n",
       "      <td>奥迪</td>\n",
       "      <td>A4</td>\n",
       "      <td>2.0 Tdi Sport Edition 110 Kw (150 Cv)</td>\n",
       "      <td>2016-01-01</td>\n",
       "      <td>110.0</td>\n",
       "      <td>手动</td>\n",
       "      <td>柴油</td>\n",
       "      <td>5.0</td>\n",
       "      <td>0.67</td>\n",
       "      <td>2016</td>\n",
       "    </tr>\n",
       "    <tr>\n",
       "      <th>9998</th>\n",
       "      <td>9998</td>\n",
       "      <td>14122.0</td>\n",
       "      <td>宝马</td>\n",
       "      <td>318</td>\n",
       "      <td>D Gran Turismo</td>\n",
       "      <td>2016-04-01</td>\n",
       "      <td>110.0</td>\n",
       "      <td>自动</td>\n",
       "      <td>柴油</td>\n",
       "      <td>35155.0</td>\n",
       "      <td>0.65</td>\n",
       "      <td>2016</td>\n",
       "    </tr>\n",
       "    <tr>\n",
       "      <th>9999</th>\n",
       "      <td>9999</td>\n",
       "      <td>60203.0</td>\n",
       "      <td>大众</td>\n",
       "      <td>Touareg</td>\n",
       "      <td>Touareg V6 Tdi * Susp. Neumatica * Xenon * Nav...</td>\n",
       "      <td>2013-09-01</td>\n",
       "      <td>180.0</td>\n",
       "      <td>自动</td>\n",
       "      <td>柴油</td>\n",
       "      <td>125721.0</td>\n",
       "      <td>0.52</td>\n",
       "      <td>2013</td>\n",
       "    </tr>\n",
       "  </tbody>\n",
       "</table>\n",
       "<p>9898 rows × 12 columns</p>\n",
       "</div>"
      ],
      "text/plain": [
       "      Unnamed: 0        ID   品牌           车型  \\\n",
       "0              0   54632.0   大众         Golf   \n",
       "1              1   46820.0   雷诺  GrandScenic   \n",
       "2              2  111350.0  沃尔沃          V40   \n",
       "3              3   77294.0   现代         Ix20   \n",
       "4              4   24668.0   福特        Focus   \n",
       "...          ...       ...  ...          ...   \n",
       "9995        9995   30644.0   奔驰         A200   \n",
       "9996        9996   69278.0  雪铁龙       Jumper   \n",
       "9997        9997    4788.0   奥迪           A4   \n",
       "9998        9998   14122.0   宝马          318   \n",
       "9999        9999   60203.0   大众      Touareg   \n",
       "\n",
       "                                                   具体型号        上牌时间     马力  \\\n",
       "0                       1.2 Tsi Bmt Special Edition 110  2017-01-01   81.0   \n",
       "1                 G.Sc�nic 1.5Dci Energy Selection 7Pl.  2016-07-01   81.0   \n",
       "2                           D-3 Momentum 150Cv Auto. 5P  2014-03-01  110.0   \n",
       "3               1.6 Crdi Bluedrive Comfort 85Kw (115Cv)  2012-12-01   85.0   \n",
       "4                                      1.6Tdci Business  2009-12-01   66.0   \n",
       "...                                                 ...         ...    ...   \n",
       "9995                                       Cdi Be Urban  2015-12-01  100.0   \n",
       "9996                                Bluehdi L2H1 Furg�n  2018-02-01   85.0   \n",
       "9997              2.0 Tdi Sport Edition 110 Kw (150 Cv)  2016-01-01  110.0   \n",
       "9998                                     D Gran Turismo  2016-04-01  110.0   \n",
       "9999  Touareg V6 Tdi * Susp. Neumatica * Xenon * Nav...  2013-09-01  180.0   \n",
       "\n",
       "     变速箱类型  燃料   里程数(km)   保值率  上牌年份  \n",
       "0       手动  汽油   10000.0  0.54  2017  \n",
       "1       手动  柴油   12600.0  0.51  2016  \n",
       "2       自动  柴油   93574.0  0.62  2014  \n",
       "3       手动  柴油   96000.0  0.66  2012  \n",
       "4       手动  柴油  142000.0  0.65  2009  \n",
       "...    ...  ..       ...   ...   ...  \n",
       "9995    手动  柴油   50000.0  0.68  2015  \n",
       "9996    手动  柴油       1.0  0.69  2018  \n",
       "9997    手动  柴油       5.0  0.67  2016  \n",
       "9998    自动  柴油   35155.0  0.65  2016  \n",
       "9999    自动  柴油  125721.0  0.52  2013  \n",
       "\n",
       "[9898 rows x 12 columns]"
      ]
     },
     "execution_count": 40,
     "metadata": {},
     "output_type": "execute_result"
    }
   ],
   "source": [
    "# 转换'上牌时间'数据，并设置对应的日期格式\n",
    "date_test = pd.to_datetime(test_data['上牌时间'], format = '%Y-%m-%d')\n",
    "# 提取'上牌时间'数据中的年份信息\n",
    "year_data = date_test.dt.year\n",
    "# 将年份数据添加到原数据中\n",
    "test_data['上牌年份'] = year_data\n",
    "# 查看数据\n",
    "test_data"
   ]
  },
  {
   "cell_type": "code",
   "execution_count": 41,
   "metadata": {},
   "outputs": [],
   "source": [
    "# 保存清洗干净的数据\n",
    "mask_data.to_csv('mask_data_clean.csv', encoding = 'utf-8', index=False)"
   ]
  },
  {
   "cell_type": "code",
   "execution_count": 42,
   "metadata": {},
   "outputs": [],
   "source": [
    "# 导入matplotlib库的pyplot模块\n",
    "from matplotlib import pyplot as plt\n",
    "# 设置中文字体\n",
    "plt.rcParams['font.family'] = ['KaiTi']"
   ]
  },
  {
   "cell_type": "code",
   "execution_count": 43,
   "metadata": {},
   "outputs": [
    {
     "data": {
      "text/plain": [
       "2月    80\n",
       "3月    85\n",
       "4月    89\n",
       "5月    91\n",
       "6月    88\n",
       "7月    95\n",
       "dtype: int64"
      ]
     },
     "execution_count": 43,
     "metadata": {},
     "output_type": "execute_result"
    }
   ],
   "source": [
    "# 创建李健的数据\n",
    "li_jian = pd.Series([80, 85, 89, 91, 88, 95],\n",
    "                    index=['2月', '3月', '4月', '5月', '6月', '7月'])\n",
    "# 查看li_jian\n",
    "li_jian"
   ]
  },
  {
   "cell_type": "code",
   "execution_count": 44,
   "metadata": {},
   "outputs": [
    {
     "data": {
      "text/plain": [
       "<AxesSubplot:title={'center':'李健月考成绩'}>"
      ]
     },
     "execution_count": 44,
     "metadata": {},
     "output_type": "execute_result"
    },
    {
     "data": {
      "image/png": "[encoded data removed]",
      "text/plain": [
       "<Figure size 504x504 with 1 Axes>"
      ]
     },
     "metadata": {
      "needs_background": "light"
     },
     "output_type": "display_data"
    }
   ],
   "source": [
    "# 绘制单条折线图\n",
    "li_jian.plot(kind='line', figsize=(7, 7), title='李健月考成绩')"
   ]
  },
  {
   "cell_type": "code",
   "execution_count": 45,
   "metadata": {},
   "outputs": [
    {
     "data": {
      "text/plain": [
       "<AxesSubplot:title={'center':'月考成绩'}>"
      ]
     },
     "execution_count": 45,
     "metadata": {},
     "output_type": "execute_result"
    },
    {
     "data": {
      "image/png": "[encoded data removed]",
      "text/plain": [
       "<Figure size 504x504 with 1 Axes>"
      ]
     },
     "metadata": {
      "needs_background": "light"
     },
     "output_type": "display_data"
    }
   ],
   "source": [
    "# 创建三个学生成绩的df\n",
    "students_grade = pd.DataFrame({'李健': [80, 85, 89, 91, 88, 95],\n",
    "                               '王聪': [95, 92, 90, 85, 75, 80],\n",
    "                               '过凡': [90, 91, 92, 91, 90, 91]\n",
    "                              }, index=['2月', '3月', '4月', '5月', '6月', '7月'])\n",
    "# 绘制多条折线图\n",
    "students_grade.plot(kind='line', figsize=(7, 7), title='月考成绩')"
   ]
  },
  {
   "cell_type": "code",
   "execution_count": 46,
   "metadata": {},
   "outputs": [
    {
     "data": {
      "text/plain": [
       "<AxesSubplot:title={'center':'行业频率分布图'}>"
      ]
     },
     "execution_count": 46,
     "metadata": {},
     "output_type": "execute_result"
    },
    {
     "data": {
      "image/png": "[encoded data removed]",
      "text/plain": [
       "<Figure size 648x648 with 1 Axes>"
      ]
     },
     "metadata": {},
     "output_type": "display_data"
    }
   ],
   "source": [
    "# 餅圖\n",
    "# 讀取數據\n",
    "mask_data = pd.read_csv('mask_data_clean.csv', encoding='utf-8')\n",
    "# 獲取省份頻率分佈\n",
    "province = mask_data['省'].value_counts()/mask_data['省'].value_counts().sum()\n",
    "# 繪製省份頻率餅圖\n",
    "province.plot(kind='pie', autopct='%.2f%%', figsize=(9, 9), fontsize=20, title='行业频率分布图', label='')"
   ]
  },
  {
   "cell_type": "code",
   "execution_count": 47,
   "metadata": {},
   "outputs": [
    {
     "data": {
      "text/plain": [
       "<AxesSubplot:title={'center':'省份頻率分佈條形圖'}>"
      ]
     },
     "execution_count": 47,
     "metadata": {},
     "output_type": "execute_result"
    },
    {
     "data": {
      "image/png": "[encoded data removed]",
      "text/plain": [
       "<Figure size 936x432 with 1 Axes>"
      ]
     },
     "metadata": {
      "needs_background": "light"
     },
     "output_type": "display_data"
    }
   ],
   "source": [
    "# 條形圖\n",
    "province.plot(kind='bar', figsize=(13,6), title='省份頻率分佈條形圖')"
   ]
  },
  {
   "cell_type": "code",
   "execution_count": 48,
   "metadata": {},
   "outputs": [
    {
     "data": {
      "text/plain": [
       "月份\n",
       "1       550370.0\n",
       "2     29256800.0\n",
       "3    343641650.0\n",
       "4     27313800.0\n",
       "5      6327520.0\n",
       "6       666660.0\n",
       "Name: 销售额, dtype: float64"
      ]
     },
     "execution_count": 48,
     "metadata": {},
     "output_type": "execute_result"
    }
   ],
   "source": [
    "# 获取每月销售额总数\n",
    "sales_income = mask_data.groupby('月份')['销售额'].sum()\n",
    "sales_income"
   ]
  },
  {
   "cell_type": "code",
   "execution_count": 49,
   "metadata": {},
   "outputs": [
    {
     "data": {
      "text/plain": [
       "月份\n",
       "1      13852.0\n",
       "2     389319.0\n",
       "3    1961480.0\n",
       "4     546276.0\n",
       "5     158188.0\n",
       "6      22222.0\n",
       "Name: 订单量, dtype: float64"
      ]
     },
     "execution_count": 49,
     "metadata": {},
     "output_type": "execute_result"
    }
   ],
   "source": [
    "# 获取各月总订单量\n",
    "order_number = mask_data.groupby('月份')['订单量'].sum()\n",
    "order_number"
   ]
  },
  {
   "cell_type": "code",
   "execution_count": 50,
   "metadata": {},
   "outputs": [
    {
     "data": {
      "text/plain": [
       "月份\n",
       "1     38.878137\n",
       "2     74.848017\n",
       "3    175.518112\n",
       "4     50.000000\n",
       "5     40.000000\n",
       "6     30.000000\n",
       "Name: 单价, dtype: float64"
      ]
     },
     "execution_count": 50,
     "metadata": {},
     "output_type": "execute_result"
    }
   ],
   "source": [
    "# 获取每月平均单价\n",
    "month_price = mask_data.groupby('月份')['单价'].mean()\n",
    "# 查看数据\n",
    "month_price"
   ]
  },
  {
   "cell_type": "code",
   "execution_count": 51,
   "metadata": {},
   "outputs": [
    {
     "data": {
      "text/plain": [
       "月份  省 \n",
       "1   其他        452.0\n",
       "    广东       2628.0\n",
       "    江苏        263.0\n",
       "    河南        434.0\n",
       "    湖北       9055.0\n",
       "    湖南       1020.0\n",
       "2   其他      10668.0\n",
       "    广东      77427.0\n",
       "    江苏       2530.0\n",
       "    河南      10058.0\n",
       "    湖北     259511.0\n",
       "    湖南      29125.0\n",
       "3   其他      16871.0\n",
       "    广东     125618.0\n",
       "    江苏       4004.0\n",
       "    河南      18293.0\n",
       "    湖北    1731060.0\n",
       "    湖南      65634.0\n",
       "4   其他       2713.0\n",
       "    广东      46708.0\n",
       "    江苏        106.0\n",
       "    河南       2917.0\n",
       "    湖北     476558.0\n",
       "    湖南      17274.0\n",
       "5   其他       1250.0\n",
       "    广东      22364.0\n",
       "    江苏        118.0\n",
       "    河南       1239.0\n",
       "    湖北     126342.0\n",
       "    湖南       6875.0\n",
       "6   其他        113.0\n",
       "    广东       4038.0\n",
       "    江苏        116.0\n",
       "    河南        107.0\n",
       "    湖北      17182.0\n",
       "    湖南        666.0\n",
       "Name: 订单量, dtype: float64"
      ]
     },
     "execution_count": 51,
     "metadata": {},
     "output_type": "execute_result"
    }
   ],
   "source": [
    "# 获取各月各省总订单量\n",
    "month_order1 = mask_data.groupby(['省', '月份'])['订单量'].sum()\n",
    "month_order2 = mask_data.groupby(['月份', '省'])['订单量'].sum()\n",
    "# 查看数据\n",
    "month_order1\n",
    "month_order2"
   ]
  },
  {
   "cell_type": "code",
   "execution_count": 52,
   "metadata": {},
   "outputs": [
    {
     "data": {
      "text/plain": [
       "<AxesSubplot:title={'center':'各月总销售额趋势图'}, xlabel='月份'>"
      ]
     },
     "execution_count": 52,
     "metadata": {},
     "output_type": "execute_result"
    },
    {
     "data": {
      "image/png": "[encoded data removed]",
      "text/plain": [
       "<Figure size 504x504 with 1 Axes>"
      ]
     },
     "metadata": {
      "needs_background": "light"
     },
     "output_type": "display_data"
    }
   ],
   "source": [
    "# 画出各月总销售额的折线图\n",
    "sales_income.plot(kind='line', figsize=(7, 7), title='各月总销售额趋势图')"
   ]
  },
  {
   "cell_type": "code",
   "execution_count": 53,
   "metadata": {},
   "outputs": [
    {
     "data": {
      "text/plain": [
       "<AxesSubplot:title={'center':'各月总订单量趋势图'}, xlabel='月份'>"
      ]
     },
     "execution_count": 53,
     "metadata": {},
     "output_type": "execute_result"
    },
    {
     "data": {
      "image/png": "[encoded data removed]",
      "text/plain": [
       "<Figure size 504x504 with 1 Axes>"
      ]
     },
     "metadata": {
      "needs_background": "light"
     },
     "output_type": "display_data"
    }
   ],
   "source": [
    "# 画出各月总订单量的折线图\n",
    "order_number.plot(kind='line', figsize=(7, 7), title='各月总订单量趋势图')"
   ]
  },
  {
   "cell_type": "code",
   "execution_count": 54,
   "metadata": {},
   "outputs": [
    {
     "data": {
      "text/plain": [
       "<AxesSubplot:title={'center':'各月平均单价趋势图'}, xlabel='月份'>"
      ]
     },
     "execution_count": 54,
     "metadata": {},
     "output_type": "execute_result"
    },
    {
     "data": {
      "image/png": "[encoded data removed]",
      "text/plain": [
       "<Figure size 504x504 with 1 Axes>"
      ]
     },
     "metadata": {
      "needs_background": "light"
     },
     "output_type": "display_data"
    }
   ],
   "source": [
    "# 画出各月平均单价的折线图\n",
    "month_price.plot(kind='line', figsize=(7, 7), title='各月平均单价趋势图')"
   ]
  },
  {
   "cell_type": "code",
   "execution_count": 55,
   "metadata": {},
   "outputs": [
    {
     "data": {
      "text/plain": [
       "<AxesSubplot:title={'center':'各月各省总订单量趋势图'}, xlabel='省'>"
      ]
     },
     "execution_count": 55,
     "metadata": {},
     "output_type": "execute_result"
    },
    {
     "data": {
      "image/png": "[encoded data removed]",
      "text/plain": [
       "<Figure size 504x504 with 1 Axes>"
      ]
     },
     "metadata": {
      "needs_background": "light"
     },
     "output_type": "display_data"
    }
   ],
   "source": [
    "# 将month_order1转换为DataFrame，存储在month_order1_df中\n",
    "month_order1_df = month_order1.unstack()\n",
    "# 根据month_order1_df绘制多条折线图，标题为'各月各省总订单量趋势图'\n",
    "month_order1_df.plot(kind='line', figsize=(7,7), title='各月各省总订单量趋势图')"
   ]
  },
  {
   "cell_type": "code",
   "execution_count": 56,
   "metadata": {},
   "outputs": [
    {
     "data": {
      "text/plain": [
       "<AxesSubplot:title={'center':'各省各月总订单量趋势图'}, xlabel='月份'>"
      ]
     },
     "execution_count": 56,
     "metadata": {},
     "output_type": "execute_result"
    },
    {
     "data": {
      "image/png": "[encoded data removed]",
      "text/plain": [
       "<Figure size 504x504 with 1 Axes>"
      ]
     },
     "metadata": {
      "needs_background": "light"
     },
     "output_type": "display_data"
    }
   ],
   "source": [
    "# 将month_order2转换为DataFrame，存储在month_order2_df中\n",
    "month_order2_df = month_order2.unstack()\n",
    "# 根据month_order2_df绘制多条折线图，标题为'各省各月总订单量趋势图'\n",
    "month_order2_df.plot(kind='line', figsize=(7, 7), title='各省各月总订单量趋势图')"
   ]
  },
  {
   "cell_type": "code",
   "execution_count": 57,
   "metadata": {},
   "outputs": [
    {
     "data": {
      "text/plain": [
       "<AxesSubplot:>"
      ]
     },
     "execution_count": 57,
     "metadata": {},
     "output_type": "execute_result"
    },
    {
     "data": {
      "image/png": "[encoded data removed]",
      "text/plain": [
       "<Figure size 432x288 with 1 Axes>"
      ]
     },
     "metadata": {
      "needs_background": "light"
     },
     "output_type": "display_data"
    }
   ],
   "source": [
    "# Seaborn 库\n",
    "import seaborn as sns\n",
    "\n",
    "students_grade = pd.DataFrame({'李健': [80, 85, 89, 91, 88, 95],\n",
    "                            '王聪': [95, 92, 90, 85, 75, 80],\n",
    "                            '过凡': [90, 91, 92, 91, 90, 91]\n",
    "                            }, index=['2月', '3月', '4月', '5月', '6月', '7月'])\n",
    "# 绘制多条折线图\n",
    "sns.lineplot(data=students_grade) "
   ]
  },
  {
   "cell_type": "code",
   "execution_count": 58,
   "metadata": {},
   "outputs": [
    {
     "data": {
      "text/plain": [
       "[<matplotlib.lines.Line2D at 0x1c6a4b427c8>]"
      ]
     },
     "execution_count": 58,
     "metadata": {},
     "output_type": "execute_result"
    },
    {
     "data": {
      "image/png": "[encoded data removed]",
      "text/plain": [
       "<Figure size 432x432 with 1 Axes>"
      ]
     },
     "metadata": {
      "needs_background": "light"
     },
     "output_type": "display_data"
    }
   ],
   "source": [
    "# 生成画布，并设置画布的大小\n",
    "plt.figure(figsize=(6, 6))\n",
    "\n",
    "# 设置 x/y 坐标值\n",
    "x = pd.Series(['第一季度', '第二季度', '第三季度', '第四季度'])\n",
    "y = pd.Series([59, 70, 68, 56])\n",
    "\n",
    "# 绘制折线图，并调整线条颜色为湖蓝色\n",
    "plt.plot(x, y, color='dodgerblue')"
   ]
  },
  {
   "cell_type": "code",
   "execution_count": 59,
   "metadata": {},
   "outputs": [
    {
     "data": {
      "text/plain": [
       "<matplotlib.legend.Legend at 0x1c6a4d6e748>"
      ]
     },
     "execution_count": 59,
     "metadata": {},
     "output_type": "execute_result"
    },
    {
     "data": {
      "image/png": "[encoded data removed]",
      "text/plain": [
       "<Figure size 432x432 with 1 Axes>"
      ]
     },
     "metadata": {
      "needs_background": "light"
     },
     "output_type": "display_data"
    }
   ],
   "source": [
    "# 生成画布，并设置画布的大小\n",
    "plt.figure(figsize=(6, 6))\n",
    "\n",
    "# 设置 x/y 坐标值\n",
    "x = pd.Series(['第一季度', '第二季度', '第三季度', '第四季度'])\n",
    "y = pd.Series([59, 70, 68, 56])\n",
    "\n",
    "# 绘制柱状图，并调整颜色为深橘色\n",
    "plt.bar(x, height=y, color='darkorange')\n",
    "\n",
    "# 设置图表标题名及字体大小\n",
    "plt.title('闪光科技2020年各季度研发费用分布图', fontsize=20)\n",
    "\n",
    "# 设置坐标轴的刻度字体大小\n",
    "plt.xticks(fontsize=12)\n",
    "plt.yticks(fontsize=12)\n",
    "\n",
    "# 设置坐标轴的标题名及字体大小\n",
    "plt.xlabel('季度', fontsize=15)\n",
    "plt.ylabel('研发费用（百万元）', fontsize=15)\n",
    "\n",
    "# 绘制折线图，并调整线条颜色为湖蓝色\n",
    "plt.plot(x, y, color='dodgerblue')\n",
    "\n",
    "# 设置图例为'研发费用变化'、'研发费用分布'\n",
    "plt.legend(['研发费用变化', '研发费用分布'])"
   ]
  },
  {
   "cell_type": "code",
   "execution_count": 60,
   "metadata": {},
   "outputs": [
    {
     "name": "stdout",
     "output_type": "stream",
     "text": [
      "第一季度 59\n",
      "第二季度 70\n",
      "第三季度 68\n",
      "第四季度 56\n"
     ]
    }
   ],
   "source": [
    "# zip函數\n",
    "x = pd.Series(['第一季度', '第二季度', '第三季度', '第四季度'])\n",
    "y = pd.Series([59, 70, 68, 56])\n",
    "for a, b in zip(x, y):\n",
    "    print(a, b)\n",
    "\n"
   ]
  },
  {
   "cell_type": "code",
   "execution_count": 61,
   "metadata": {},
   "outputs": [
    {
     "data": {
      "image/png": "[encoded data removed]",
      "text/plain": [
       "<Figure size 432x432 with 1 Axes>"
      ]
     },
     "metadata": {
      "needs_background": "light"
     },
     "output_type": "display_data"
    }
   ],
   "source": [
    "# 生成画布，并设置画布的大小\n",
    "plt.figure(figsize=(6, 6))\n",
    "\n",
    "# 设置 x/y 坐标值\n",
    "x = pd.Series(['第一季度', '第二季度', '第三季度', '第四季度'])\n",
    "y = pd.Series([59, 70, 68, 56])\n",
    "\n",
    "# 绘制柱状图，并调整颜色为深橘色\n",
    "plt.bar(x, height=y, color='darkorange')\n",
    "\n",
    "# 设置图表标题名及字体大小\n",
    "plt.title('闪光科技2020年各季度研发费用分布图', fontsize=20)\n",
    "\n",
    "# 设置坐标轴的刻度字体大小\n",
    "plt.xticks(fontsize=12)\n",
    "plt.yticks(fontsize=12)\n",
    "\n",
    "# 设置坐标轴的标题名及字体大小\n",
    "plt.xlabel('季度', fontsize=15)\n",
    "plt.ylabel('研发费用（百万元）', fontsize=15)\n",
    "\n",
    "# 绘制折线图，并调整线条颜色为湖蓝色\n",
    "plt.plot(x, y, color='dodgerblue')\n",
    "\n",
    "# 设置图例为'研发费用变化'、'研发费用分布'\n",
    "plt.legend(['研发费用变化', '研发费用分布'])\n",
    "\n",
    "# 设置数据标签\n",
    "for a, b in zip(x, y):\n",
    "    plt.text(a, b, b, ha='center', va='bottom', fontsize=12)"
   ]
  },
  {
   "cell_type": "code",
   "execution_count": 62,
   "metadata": {},
   "outputs": [
    {
     "data": {
      "text/plain": [
       "<matplotlib.legend.Legend at 0x1c6a4edcdc8>"
      ]
     },
     "execution_count": 62,
     "metadata": {},
     "output_type": "execute_result"
    },
    {
     "data": {
      "image/png": "[encoded data removed]",
      "text/plain": [
       "<Figure size 432x432 with 1 Axes>"
      ]
     },
     "metadata": {},
     "output_type": "display_data"
    }
   ],
   "source": [
    "# 餅圖\n",
    "\n",
    "# 生成画布，并设置画布的大小\n",
    "plt.figure(figsize=(6, 6))\n",
    "# 设置扇形面积值\n",
    "x = pd.Series([59, 70, 68, 56])\n",
    "# 设置百分比小数的位数：保留百分比小数点后两位\n",
    "autopct='%.2f%%'\n",
    "# 设置百分比字体大小和颜色\n",
    "textprops = {'fontsize': 12, 'color': 'black'}\n",
    "# 设置饼图的“爆炸效果”：让扇形远离圆心\n",
    "explode = [0.1, 0, 0, 0]\n",
    "# 设置不同扇形的颜色\n",
    "colors = ['cornflowerblue', 'salmon', 'yellowgreen', 'orange']\n",
    "# 绘制饼图\n",
    "plt.pie(x, autopct=autopct, textprops=textprops,\n",
    "        explode=explode, colors=colors)\n",
    "# 设置图表标题名及字体大小\n",
    "plt.title('闪光科技2020年各季度研发费用占比饼图', fontsize=20)\n",
    "# 设置图例\n",
    "plt.legend(['第一季度', '第二季度', '第三季度', '第四季度']) "
   ]
  },
  {
   "cell_type": "code",
   "execution_count": 63,
   "metadata": {},
   "outputs": [
    {
     "data": {
      "text/plain": [
       "Text(0, 0.5, '各月总订单量（百万）')"
      ]
     },
     "execution_count": 63,
     "metadata": {},
     "output_type": "execute_result"
    },
    {
     "data": {
      "image/png": "[encoded data removed]",
      "text/plain": [
       "<Figure size 432x432 with 1 Axes>"
      ]
     },
     "metadata": {
      "needs_background": "light"
     },
     "output_type": "display_data"
    }
   ],
   "source": [
    "# 生成画布，并设置画布的大小为(6, 6)\n",
    "plt.figure(figsize=(6,6))\n",
    "# 设置 x/y 坐标值，x 坐标值为月份信息，y 坐标值为各月口罩总订单量\n",
    "x = order_number.index\n",
    "y = order_number.values\n",
    "# 绘制折线图，并调整线条的样式\n",
    "plt.plot(x,y,color='olivedrab')\n",
    "# 设置图表标题名为'各月总订单量趋势图'，字体大小为 20\n",
    "plt.title('各月总订单量趋势图', fontsize=20)\n",
    "# 设置坐标轴的刻度字体大小为 12\n",
    "plt.xticks(fontsize=12)\n",
    "plt.yticks(fontsize=12)\n",
    "# 设置 x、y 轴标题分别为'月份'、'各月总订单量（百万）'，字体大小均为 15\n",
    "plt.xlabel('月份', fontsize=15)\n",
    "plt.ylabel('各月总订单量（百万）',fontsize=15)"
   ]
  },
  {
   "cell_type": "code",
   "execution_count": 64,
   "metadata": {},
   "outputs": [
    {
     "data": {
      "text/html": [
       "<div>\n",
       "<style scoped>\n",
       "    .dataframe tbody tr th:only-of-type {\n",
       "        vertical-align: middle;\n",
       "    }\n",
       "\n",
       "    .dataframe tbody tr th {\n",
       "        vertical-align: top;\n",
       "    }\n",
       "\n",
       "    .dataframe thead th {\n",
       "        text-align: right;\n",
       "    }\n",
       "</style>\n",
       "<table border=\"1\" class=\"dataframe\">\n",
       "  <thead>\n",
       "    <tr style=\"text-align: right;\">\n",
       "      <th>省</th>\n",
       "      <th>其他</th>\n",
       "      <th>广东</th>\n",
       "      <th>江苏</th>\n",
       "      <th>河南</th>\n",
       "      <th>湖北</th>\n",
       "      <th>湖南</th>\n",
       "    </tr>\n",
       "    <tr>\n",
       "      <th>月份</th>\n",
       "      <th></th>\n",
       "      <th></th>\n",
       "      <th></th>\n",
       "      <th></th>\n",
       "      <th></th>\n",
       "      <th></th>\n",
       "    </tr>\n",
       "  </thead>\n",
       "  <tbody>\n",
       "    <tr>\n",
       "      <th>1</th>\n",
       "      <td>452.0</td>\n",
       "      <td>2628.0</td>\n",
       "      <td>263.0</td>\n",
       "      <td>434.0</td>\n",
       "      <td>9055.0</td>\n",
       "      <td>1020.0</td>\n",
       "    </tr>\n",
       "    <tr>\n",
       "      <th>2</th>\n",
       "      <td>10668.0</td>\n",
       "      <td>77427.0</td>\n",
       "      <td>2530.0</td>\n",
       "      <td>10058.0</td>\n",
       "      <td>259511.0</td>\n",
       "      <td>29125.0</td>\n",
       "    </tr>\n",
       "    <tr>\n",
       "      <th>3</th>\n",
       "      <td>16871.0</td>\n",
       "      <td>125618.0</td>\n",
       "      <td>4004.0</td>\n",
       "      <td>18293.0</td>\n",
       "      <td>1731060.0</td>\n",
       "      <td>65634.0</td>\n",
       "    </tr>\n",
       "    <tr>\n",
       "      <th>4</th>\n",
       "      <td>2713.0</td>\n",
       "      <td>46708.0</td>\n",
       "      <td>106.0</td>\n",
       "      <td>2917.0</td>\n",
       "      <td>476558.0</td>\n",
       "      <td>17274.0</td>\n",
       "    </tr>\n",
       "    <tr>\n",
       "      <th>5</th>\n",
       "      <td>1250.0</td>\n",
       "      <td>22364.0</td>\n",
       "      <td>118.0</td>\n",
       "      <td>1239.0</td>\n",
       "      <td>126342.0</td>\n",
       "      <td>6875.0</td>\n",
       "    </tr>\n",
       "    <tr>\n",
       "      <th>6</th>\n",
       "      <td>113.0</td>\n",
       "      <td>4038.0</td>\n",
       "      <td>116.0</td>\n",
       "      <td>107.0</td>\n",
       "      <td>17182.0</td>\n",
       "      <td>666.0</td>\n",
       "    </tr>\n",
       "  </tbody>\n",
       "</table>\n",
       "</div>"
      ],
      "text/plain": [
       "省        其他        广东      江苏       河南         湖北       湖南\n",
       "月份                                                        \n",
       "1     452.0    2628.0   263.0    434.0     9055.0   1020.0\n",
       "2   10668.0   77427.0  2530.0  10058.0   259511.0  29125.0\n",
       "3   16871.0  125618.0  4004.0  18293.0  1731060.0  65634.0\n",
       "4    2713.0   46708.0   106.0   2917.0   476558.0  17274.0\n",
       "5    1250.0   22364.0   118.0   1239.0   126342.0   6875.0\n",
       "6     113.0    4038.0   116.0    107.0    17182.0    666.0"
      ]
     },
     "execution_count": 64,
     "metadata": {},
     "output_type": "execute_result"
    }
   ],
   "source": [
    "# 提取各省各月订单量数据\n",
    "month_order = mask_data.groupby(['月份', '省'])['订单量'].sum()\n",
    "# 将多级索引的Series对象转换成DataFrame对象\n",
    "month_order_df = month_order.unstack()\n",
    "# 查看各省各月订单量数据\n",
    "month_order_df"
   ]
  },
  {
   "cell_type": "code",
   "execution_count": 65,
   "metadata": {},
   "outputs": [
    {
     "data": {
      "text/plain": [
       "<matplotlib.legend.Legend at 0x1c6a4e0c488>"
      ]
     },
     "execution_count": 65,
     "metadata": {},
     "output_type": "execute_result"
    },
    {
     "data": {
      "image/png": "[encoded data removed]",
      "text/plain": [
       "<Figure size 432x432 with 1 Axes>"
      ]
     },
     "metadata": {
      "needs_background": "light"
     },
     "output_type": "display_data"
    }
   ],
   "source": [
    "# 生成画布，并设置画布的大小为(6, 6)\n",
    "plt.figure(figsize=(6,6))\n",
    "# 设置 x 坐标值为月份信息，y 坐标值为各个省份在各月口罩订单总量的信息\n",
    "x = month_order_df.index\n",
    "y = month_order_df.values\n",
    "# 绘制折线图\n",
    "plt.plot(x,y)\n",
    "# 设置图表标题名为'各省各月口罩订单量变化折线图'，字体大小为 20\n",
    "plt.title('各省各月口罩订单量变化折线图',fontsize=20)\n",
    "# 设置坐标轴的刻度字体大小为 12\n",
    "plt.xticks(fontsize=12)\n",
    "plt.yticks(fontsize=12)\n",
    "# 设置 x、y 轴标题分别为'月份'、'各省各月口罩订单量（百万）'，字体大小均为 15\n",
    "plt.xlabel('月份', fontsize=15)\n",
    "plt.xlabel('各省各月口罩订单量（百万）', fontsize=15)\n",
    "# 添加图例，内容为：'其他', '广东', '江苏', '河南', '湖北', '湖南'\n",
    "plt.legend(['其他','广东', '江苏', '河南', '湖北', '湖南'])\n"
   ]
  },
  {
   "cell_type": "code",
   "execution_count": 66,
   "metadata": {},
   "outputs": [
    {
     "data": {
      "text/plain": [
       "月份\n",
       "1     38.878137\n",
       "2     74.848017\n",
       "3    175.518112\n",
       "4     50.000000\n",
       "5     40.000000\n",
       "6     30.000000\n",
       "Name: 单价, dtype: float64"
      ]
     },
     "execution_count": 66,
     "metadata": {},
     "output_type": "execute_result"
    }
   ],
   "source": [
    "# 求得各月平均单价数据，并将其赋值给变量 mask_price\n",
    "mask_price = mask_data.groupby('月份')['单价'].mean()\n",
    "# 查看mask_price\n",
    "mask_price"
   ]
  },
  {
   "cell_type": "code",
   "execution_count": 67,
   "metadata": {},
   "outputs": [
    {
     "data": {
      "image/png": "[encoded data removed]",
      "text/plain": [
       "<Figure size 432x432 with 1 Axes>"
      ]
     },
     "metadata": {
      "needs_background": "light"
     },
     "output_type": "display_data"
    }
   ],
   "source": [
    "# 生成画布，并设置画布的大小为(6, 6)\n",
    "plt.figure(figsize=(6,6))\n",
    "# 设置 x 坐标值为月份信息，y 坐标值为各月口罩平均单价\n",
    "x = mask_price.index\n",
    "y = mask_price.values\n",
    "# 绘制柱状图，调整柱子的样式，并区分 1 月份和 6 月份颜色\n",
    "plt.bar(x, height=y, color=['r', 'g', 'g', 'g', 'g', 'b'])\n",
    "# 设置图表标题名为'各月平均单价分布图'，字体大小为 20\n",
    "plt.title('各月平均单价分布图', fontsize=20)\n",
    "# 坐标轴的刻度字体大小为 12\n",
    "plt.xticks(fontsize=12)\n",
    "plt.yticks(fontsize=12)\n",
    "# 设置 x、y 轴标题分别为'月份'、'各月平均单价（元）'，字体大小均为 15\n",
    "plt.xlabel('月份',fontsize=15)\n",
    "plt.ylabel('各月平均单价（元）', fontsize=15)\n",
    "# 为柱子添加每一个数据标签，数值是 y 坐标值\n",
    "for a, b in zip(x,y):\n",
    "    plt.text(a,b,'%.0f'%b, ha='center', va='bottom', fontsize=12)"
   ]
  },
  {
   "cell_type": "code",
   "execution_count": 68,
   "metadata": {},
   "outputs": [
    {
     "data": {
      "image/png": "[encoded data removed]",
      "text/plain": [
       "<Figure size 432x432 with 1 Axes>"
      ]
     },
     "metadata": {
      "needs_background": "light"
     },
     "output_type": "display_data"
    }
   ],
   "source": [
    "# 设置字体样式字典\n",
    "font1 = {'family': 'KaiTi',\n",
    "        'color':  'black',\n",
    "        'weight': 'bold',\n",
    "        'size': 20,\n",
    "        }\n",
    "font2 = {'family': 'KaiTi',\n",
    "        'color':  'red',\n",
    "        'weight': 'normal',\n",
    "        'size': 12,\n",
    "        }\n",
    "# 生成画布，并设置画布的大小\n",
    "plt.figure(figsize=(6, 6))\n",
    "# 设置 x/y 的坐标值\n",
    "x = pd.Series(['第一季度', '第二季度', '第三季度', '第四季度'])\n",
    "y = pd.Series([160, 200, 180, 165])\n",
    "# 绘制柱状图\n",
    "plt.bar(x, height=y, color='darkorange', alpha=0.6)\n",
    "# 设置图表标题名及字体样式\n",
    "plt.title('闪光科技2020年各季度研发费用分布图', fontdict=font1)\n",
    "# 设置数据标签及字体样式\n",
    "for a, b in zip(x, y):\n",
    "    plt.text(a, b, b, ha='center', va='bottom', fontdict=font2)"
   ]
  },
  {
   "cell_type": "code",
   "execution_count": 69,
   "metadata": {},
   "outputs": [
    {
     "data": {
      "text/plain": [
       "<matplotlib.legend.Legend at 0x1c6a50ccc48>"
      ]
     },
     "execution_count": 69,
     "metadata": {},
     "output_type": "execute_result"
    },
    {
     "data": {
      "image/png": "[encoded data removed]",
      "text/plain": [
       "<Figure size 432x432 with 1 Axes>"
      ]
     },
     "metadata": {
      "needs_background": "light"
     },
     "output_type": "display_data"
    }
   ],
   "source": [
    "# 折綫寬度\n",
    "\n",
    "# 生成画布，并设置画布的大小\n",
    "plt.figure(figsize=(6, 6))\n",
    "# 设置坐标值\n",
    "x = pd.Series(['第一季度', '第二季度', '第三季度', '第四季度'])\n",
    "y1 = pd.Series([160, 200, 180, 165])\n",
    "y2 = pd.Series([140, 160, 170, 160])\n",
    "plt.plot(x, y1)\n",
    "# 设置数据标记点的形状为圆：'o'；大小为 10；填充颜色为白色：'w'\n",
    "plt.plot(x, y2, linewidth=3, marker='o',\n",
    "        markersize=10, markerfacecolor='w')\n",
    "# 设置标题名及字体大小\n",
    "plt.title('闪光科技2019-2020年各季度营业收入趋势图', fontsize=20)\n",
    "# 设置坐标轴的标题名及字体大小\n",
    "plt.xlabel('季度', fontsize=15)\n",
    "plt.ylabel('营业收入（百万元）', fontsize=15)\n",
    "# 设置坐标轴的刻度字体大小\n",
    "plt.xticks(fontsize=12)\n",
    "plt.yticks(fontsize=12)\n",
    "# 设置图例\n",
    "plt.legend(['2019年', '2020年'])"
   ]
  },
  {
   "cell_type": "code",
   "execution_count": 70,
   "metadata": {},
   "outputs": [
    {
     "data": {
      "text/plain": [
       "Text(0, 0.5, '研发费用（百万元）')"
      ]
     },
     "execution_count": 70,
     "metadata": {},
     "output_type": "execute_result"
    },
    {
     "data": {
      "image/png": "[encoded data removed]",
      "text/plain": [
       "<Figure size 432x432 with 1 Axes>"
      ]
     },
     "metadata": {
      "needs_background": "light"
     },
     "output_type": "display_data"
    }
   ],
   "source": [
    "# 柱狀圖透明度，顔色，寬度\n",
    "\n",
    "# 生成画布，并设置画布的大小\n",
    "plt.figure(figsize=(6, 6))\n",
    "# 设置 x/y 的坐标值\n",
    "x = pd.Series(['2020Q1', '2020Q2', '2020Q3', '2020Q4'])\n",
    "y = pd.Series([59, 70, 68, 56])\n",
    "# 绘制柱状图，设置柱子的宽度为 0.6\n",
    "plt.bar(x, height=y, color=['g', 'g', 'r', 'g'], alpha=0.6, width=0.1)\n",
    "# 设置图表标题名及字体大小\n",
    "plt.title('闪光科技2020年各季度研发费用分布图', fontsize=20)\n",
    "# 设置坐标轴的刻度字体大小\n",
    "plt.xticks(fontsize=12)\n",
    "plt.yticks(fontsize=12)\n",
    "# 设置坐标轴的标题名及字体大小\n",
    "plt.xlabel(\"季度\", fontsize=15)\n",
    "plt.ylabel(\"研发费用（百万元）\", fontsize=15)"
   ]
  },
  {
   "cell_type": "code",
   "execution_count": 71,
   "metadata": {},
   "outputs": [
    {
     "data": {
      "image/png": "[encoded data removed]",
      "text/plain": [
       "<Figure size 432x432 with 1 Axes>"
      ]
     },
     "metadata": {
      "needs_background": "light"
     },
     "output_type": "display_data"
    }
   ],
   "source": [
    "# 保存畫布\n",
    "\n",
    "# 生成画布，并设置画布的大小\n",
    "plt.figure(figsize=(6, 6))\n",
    "# 设置 x/y 的坐标值\n",
    "x = pd.Series(['2020Q1', '2020Q2', '2020Q3', '2020Q4'])\n",
    "y = pd.Series([59, 70, 68, 56])\n",
    "# 绘制柱状图，设置柱子的宽度为 0.6\n",
    "plt.bar(x, height=y, color=['g', 'g', 'r', 'g'], alpha=0.6, width=0.6)\n",
    "# 设置图表标题名及字体大小\n",
    "plt.title('闪光科技2020年各季度研发费用分布图', fontsize=20)\n",
    "# 设置坐标轴的刻度字体大小\n",
    "plt.xticks(fontsize=12)\n",
    "plt.yticks(fontsize=12)\n",
    "# 设置坐标轴的标题名及字体大小\n",
    "plt.xlabel(\"季度\", fontsize=15)\n",
    "plt.ylabel(\"研发费用（百万元）\", fontsize=15)\n",
    "# 保存画布，并设置保存路径\n",
    "plt.savefig('闪光科技2020年各季度研发费用分布图.png') # dpi, format, transparent"
   ]
  },
  {
   "cell_type": "code",
   "execution_count": 72,
   "metadata": {},
   "outputs": [
    {
     "data": {
      "image/png": "[encoded data removed]",
      "text/plain": [
       "<Figure size 432x432 with 1 Axes>"
      ]
     },
     "metadata": {
      "needs_background": "light"
     },
     "output_type": "display_data"
    }
   ],
   "source": [
    "# Series 对象排序\n",
    "y = y.sort_values(ascending=False)\n",
    "plt.figure(figsize=(6, 6))\n",
    "plt.bar(x, height=y, color=['g', 'g', 'r', 'g'], alpha=0.6, width=0.6)\n",
    "plt.xticks(fontsize=12, rotation=90)\n",
    "plt.yticks(fontsize=12)\n",
    "plt.xlabel(\"季度\", fontsize=15)\n",
    "plt.ylabel(\"研发费用（百万元）\", fontsize=15)\n",
    "plt.savefig('闪光科技2020年各季度研发费用分布图.png') # dpi, format, transparent"
   ]
  },
  {
   "cell_type": "code",
   "execution_count": 73,
   "metadata": {},
   "outputs": [
    {
     "data": {
      "text/html": [
       "<div>\n",
       "<style scoped>\n",
       "    .dataframe tbody tr th:only-of-type {\n",
       "        vertical-align: middle;\n",
       "    }\n",
       "\n",
       "    .dataframe tbody tr th {\n",
       "        vertical-align: top;\n",
       "    }\n",
       "\n",
       "    .dataframe thead th {\n",
       "        text-align: right;\n",
       "    }\n",
       "</style>\n",
       "<table border=\"1\" class=\"dataframe\">\n",
       "  <thead>\n",
       "    <tr style=\"text-align: right;\">\n",
       "      <th></th>\n",
       "      <th>姓名</th>\n",
       "      <th>科目</th>\n",
       "      <th>分数</th>\n",
       "    </tr>\n",
       "  </thead>\n",
       "  <tbody>\n",
       "    <tr>\n",
       "      <th>0</th>\n",
       "      <td>小蓝</td>\n",
       "      <td>语文</td>\n",
       "      <td>79</td>\n",
       "    </tr>\n",
       "    <tr>\n",
       "      <th>1</th>\n",
       "      <td>小邱</td>\n",
       "      <td>数学</td>\n",
       "      <td>83</td>\n",
       "    </tr>\n",
       "    <tr>\n",
       "      <th>2</th>\n",
       "      <td>小李</td>\n",
       "      <td>英语</td>\n",
       "      <td>92</td>\n",
       "    </tr>\n",
       "  </tbody>\n",
       "</table>\n",
       "</div>"
      ],
      "text/plain": [
       "   姓名  科目  分数\n",
       "0  小蓝  语文  79\n",
       "1  小邱  数学  83\n",
       "2  小李  英语  92"
      ]
     },
     "execution_count": 73,
     "metadata": {},
     "output_type": "execute_result"
    }
   ],
   "source": [
    "# 嵌套列表創建DF\n",
    "\n",
    "# 设置列表\n",
    "students_info = [['小蓝', '语文', '79'],\n",
    "        ['小邱', '数学', '83'],\n",
    "        ['小李', '英语', '92']]\n",
    "\n",
    "# 使用列表创建 DataFrame 对象，同时设置列名\n",
    "students_df = pd.DataFrame(students_info, columns=['姓名', '科目', '分数'])\n",
    "students_df"
   ]
  },
  {
   "cell_type": "code",
   "execution_count": 74,
   "metadata": {},
   "outputs": [
    {
     "data": {
      "text/html": [
       "<div>\n",
       "<style scoped>\n",
       "    .dataframe tbody tr th:only-of-type {\n",
       "        vertical-align: middle;\n",
       "    }\n",
       "\n",
       "    .dataframe tbody tr th {\n",
       "        vertical-align: top;\n",
       "    }\n",
       "\n",
       "    .dataframe thead th {\n",
       "        text-align: right;\n",
       "    }\n",
       "</style>\n",
       "<table border=\"1\" class=\"dataframe\">\n",
       "  <thead>\n",
       "    <tr style=\"text-align: right;\">\n",
       "      <th></th>\n",
       "      <th>姓名</th>\n",
       "      <th>身高</th>\n",
       "      <th>体重</th>\n",
       "    </tr>\n",
       "  </thead>\n",
       "  <tbody>\n",
       "    <tr>\n",
       "      <th>0</th>\n",
       "      <td>小鱼</td>\n",
       "      <td>160</td>\n",
       "      <td>60</td>\n",
       "    </tr>\n",
       "    <tr>\n",
       "      <th>1</th>\n",
       "      <td>小猿</td>\n",
       "      <td>165</td>\n",
       "      <td>56</td>\n",
       "    </tr>\n",
       "    <tr>\n",
       "      <th>2</th>\n",
       "      <td>小马</td>\n",
       "      <td>170</td>\n",
       "      <td>45</td>\n",
       "    </tr>\n",
       "    <tr>\n",
       "      <th>3</th>\n",
       "      <td>小猫</td>\n",
       "      <td>172</td>\n",
       "      <td>40</td>\n",
       "    </tr>\n",
       "    <tr>\n",
       "      <th>4</th>\n",
       "      <td>小龙</td>\n",
       "      <td>178</td>\n",
       "      <td>70</td>\n",
       "    </tr>\n",
       "  </tbody>\n",
       "</table>\n",
       "</div>"
      ],
      "text/plain": [
       "   姓名   身高  体重\n",
       "0  小鱼  160  60\n",
       "1  小猿  165  56\n",
       "2  小马  170  45\n",
       "3  小猫  172  40\n",
       "4  小龙  178  70"
      ]
     },
     "execution_count": 74,
     "metadata": {},
     "output_type": "execute_result"
    }
   ],
   "source": [
    "# 排序+重置索引\n",
    "# 创建一个 DataFrame 对象的数据\n",
    "humans_df = pd.DataFrame({'姓名': ['小猿', '小马', '小鱼', '小猫', '小龙'], '身高': ['165', '170', '160', '172', '178'], '体重': [56, 45, 60, 40, 70]})\n",
    "\n",
    "# 依照【身高】列的数据进行升序排序\n",
    "reset_humans = humans_df.sort_values(by='身高')\n",
    "# 重置索引，且不保留原索引\n",
    "reset_humans.reset_index(drop=True)"
   ]
  },
  {
   "cell_type": "code",
   "execution_count": 75,
   "metadata": {},
   "outputs": [
    {
     "data": {
      "text/html": [
       "<div>\n",
       "<style scoped>\n",
       "    .dataframe tbody tr th:only-of-type {\n",
       "        vertical-align: middle;\n",
       "    }\n",
       "\n",
       "    .dataframe tbody tr th {\n",
       "        vertical-align: top;\n",
       "    }\n",
       "\n",
       "    .dataframe thead th {\n",
       "        text-align: right;\n",
       "    }\n",
       "</style>\n",
       "<table border=\"1\" class=\"dataframe\">\n",
       "  <thead>\n",
       "    <tr style=\"text-align: right;\">\n",
       "      <th></th>\n",
       "      <th>姓名</th>\n",
       "      <th>身高</th>\n",
       "      <th>体重</th>\n",
       "    </tr>\n",
       "  </thead>\n",
       "  <tbody>\n",
       "    <tr>\n",
       "      <th>0</th>\n",
       "      <td>小猿</td>\n",
       "      <td>165</td>\n",
       "      <td>56.2</td>\n",
       "    </tr>\n",
       "    <tr>\n",
       "      <th>1</th>\n",
       "      <td>小马</td>\n",
       "      <td>170</td>\n",
       "      <td>45.6</td>\n",
       "    </tr>\n",
       "    <tr>\n",
       "      <th>2</th>\n",
       "      <td>小鱼</td>\n",
       "      <td>160</td>\n",
       "      <td>60.7</td>\n",
       "    </tr>\n",
       "    <tr>\n",
       "      <th>3</th>\n",
       "      <td>小猫</td>\n",
       "      <td>172</td>\n",
       "      <td>40.3</td>\n",
       "    </tr>\n",
       "    <tr>\n",
       "      <th>4</th>\n",
       "      <td>小龙</td>\n",
       "      <td>178</td>\n",
       "      <td>70.5</td>\n",
       "    </tr>\n",
       "  </tbody>\n",
       "</table>\n",
       "</div>"
      ],
      "text/plain": [
       "   姓名   身高    体重\n",
       "0  小猿  165  56.2\n",
       "1  小马  170  45.6\n",
       "2  小鱼  160  60.7\n",
       "3  小猫  172  40.3\n",
       "4  小龙  178  70.5"
      ]
     },
     "execution_count": 75,
     "metadata": {},
     "output_type": "execute_result"
    }
   ],
   "source": [
    "# 數據四捨五入\n",
    "\n",
    "# 创建一个 DataFrame 对象的数据\n",
    "humans_df = pd.DataFrame({'姓名': ['小猿', '小马', '小鱼', '小猫', '小龙'], '身高': ['165', '170', '160', '172', '178'], '体重': [56.25, 45.63, 60.72, 40.34, 70.5]})\n",
    "# 保留【体重】列的数据到一位小数\n",
    "humans_df['体重'] = round(humans_df['体重'], 1)\n",
    "humans_df"
   ]
  },
  {
   "cell_type": "code",
   "execution_count": 76,
   "metadata": {},
   "outputs": [
    {
     "data": {
      "text/html": [
       "<div>\n",
       "<style scoped>\n",
       "    .dataframe tbody tr th:only-of-type {\n",
       "        vertical-align: middle;\n",
       "    }\n",
       "\n",
       "    .dataframe tbody tr th {\n",
       "        vertical-align: top;\n",
       "    }\n",
       "\n",
       "    .dataframe thead th {\n",
       "        text-align: right;\n",
       "    }\n",
       "</style>\n",
       "<table border=\"1\" class=\"dataframe\">\n",
       "  <thead>\n",
       "    <tr style=\"text-align: right;\">\n",
       "      <th></th>\n",
       "      <th>单价</th>\n",
       "      <th>数量</th>\n",
       "    </tr>\n",
       "    <tr>\n",
       "      <th>食品名</th>\n",
       "      <th></th>\n",
       "      <th></th>\n",
       "    </tr>\n",
       "  </thead>\n",
       "  <tbody>\n",
       "    <tr>\n",
       "      <th>擂茶</th>\n",
       "      <td>12</td>\n",
       "      <td>35</td>\n",
       "    </tr>\n",
       "    <tr>\n",
       "      <th>水晶饺</th>\n",
       "      <td>10</td>\n",
       "      <td>0</td>\n",
       "    </tr>\n",
       "    <tr>\n",
       "      <th>肚脐饼</th>\n",
       "      <td>2</td>\n",
       "      <td>37</td>\n",
       "    </tr>\n",
       "  </tbody>\n",
       "</table>\n",
       "</div>"
      ],
      "text/plain": [
       "     单价  数量\n",
       "食品名        \n",
       "擂茶   12  35\n",
       "水晶饺  10   0\n",
       "肚脐饼   2  37"
      ]
     },
     "execution_count": 76,
     "metadata": {},
     "output_type": "execute_result"
    }
   ],
   "source": [
    "# agg 函數\n",
    "\n",
    "# 创建一个 DataFrame 对象的数据\n",
    "foods_df = pd.DataFrame({'食品名': ['肚脐饼', '水晶饺', '擂茶', '肚脐饼', '擂茶'], '单价': [2, 10, 12, 4, 20], '数量': [20, '-', 35, 37, '-'], '城市': ['潮州', '汕尾', '梅州', '深圳', '深圳']})\n",
    "# 定义函数，以替换【数量】列的“-”为 0\n",
    "def iszero(data):\n",
    "    if data == '-':\n",
    "        data = 0\n",
    "    return int(data)\n",
    "# 使用 agg() 方法对【数量】列的内容进行替换\n",
    "foods_df['数量']=foods_df['数量'].agg(iszero)\n",
    "# 同时计算【单价】列的最小值和【数量】列的最大值\n",
    "foods_df.groupby('食品名').agg({'单价':'min','数量':'max'})"
   ]
  },
  {
   "cell_type": "code",
   "execution_count": 77,
   "metadata": {},
   "outputs": [
    {
     "data": {
      "text/plain": [
       "<generator object apriori at 0x000001C68C5860C8>"
      ]
     },
     "execution_count": 77,
     "metadata": {},
     "output_type": "execute_result"
    }
   ],
   "source": [
    "# apriori\n",
    "\n",
    "# 导入 apyori 模块下的 apriori() 函数\n",
    "from apyori import apriori\n",
    "# 创建4条快餐交易数据\n",
    "orders = [['薯条', '可乐'], ['薯条', '可乐', '奶茶'], ['汉堡', '薯条', '可乐'], ['汉堡', '可乐']]\n",
    "# 创建变量 results，调用 apriori() 函数，传入 orders ，设置最小支持度为 0.2，最小置信度为 0.7\n",
    "results = apriori(orders, min_support=0.2, min_confidence=0.7)\n",
    "# 查看变量 results\n",
    "results"
   ]
  },
  {
   "cell_type": "code",
   "execution_count": 78,
   "metadata": {},
   "outputs": [
    {
     "name": "stdout",
     "output_type": "stream",
     "text": [
      "RelationRecord(items=frozenset({'可乐'}), support=1.0, ordered_statistics=[OrderedStatistic(items_base=frozenset(), items_add=frozenset({'可乐'}), confidence=1.0, lift=1.0)])\n",
      "RelationRecord(items=frozenset({'薯条'}), support=0.75, ordered_statistics=[OrderedStatistic(items_base=frozenset(), items_add=frozenset({'薯条'}), confidence=0.75, lift=1.0)])\n",
      "RelationRecord(items=frozenset({'奶茶', '可乐'}), support=0.25, ordered_statistics=[OrderedStatistic(items_base=frozenset({'奶茶'}), items_add=frozenset({'可乐'}), confidence=1.0, lift=1.0)])\n",
      "RelationRecord(items=frozenset({'可乐', '汉堡'}), support=0.5, ordered_statistics=[OrderedStatistic(items_base=frozenset({'汉堡'}), items_add=frozenset({'可乐'}), confidence=1.0, lift=1.0)])\n",
      "RelationRecord(items=frozenset({'薯条', '可乐'}), support=0.75, ordered_statistics=[OrderedStatistic(items_base=frozenset(), items_add=frozenset({'薯条', '可乐'}), confidence=0.75, lift=1.0), OrderedStatistic(items_base=frozenset({'可乐'}), items_add=frozenset({'薯条'}), confidence=0.75, lift=1.0), OrderedStatistic(items_base=frozenset({'薯条'}), items_add=frozenset({'可乐'}), confidence=1.0, lift=1.0)])\n",
      "RelationRecord(items=frozenset({'奶茶', '薯条'}), support=0.25, ordered_statistics=[OrderedStatistic(items_base=frozenset({'奶茶'}), items_add=frozenset({'薯条'}), confidence=1.0, lift=1.3333333333333333)])\n",
      "RelationRecord(items=frozenset({'奶茶', '薯条', '可乐'}), support=0.25, ordered_statistics=[OrderedStatistic(items_base=frozenset({'奶茶'}), items_add=frozenset({'薯条', '可乐'}), confidence=1.0, lift=1.3333333333333333), OrderedStatistic(items_base=frozenset({'奶茶', '可乐'}), items_add=frozenset({'薯条'}), confidence=1.0, lift=1.3333333333333333), OrderedStatistic(items_base=frozenset({'奶茶', '薯条'}), items_add=frozenset({'可乐'}), confidence=1.0, lift=1.0)])\n",
      "RelationRecord(items=frozenset({'薯条', '可乐', '汉堡'}), support=0.25, ordered_statistics=[OrderedStatistic(items_base=frozenset({'薯条', '汉堡'}), items_add=frozenset({'可乐'}), confidence=1.0, lift=1.0)])\n"
     ]
    }
   ],
   "source": [
    "for result in results:\n",
    "    print(result)"
   ]
  },
  {
   "cell_type": "code",
   "execution_count": 79,
   "metadata": {},
   "outputs": [
    {
     "name": "stdout",
     "output_type": "stream",
     "text": [
      "['奶茶']→['可乐'] 0.25 1.0 1.0\n",
      "['汉堡']→['可乐'] 0.5 1.0 1.0\n",
      "['可乐']→['薯条'] 0.75 0.75 1.0\n",
      "['薯条']→['可乐'] 0.75 1.0 1.0\n",
      "['奶茶']→['薯条'] 0.25 1.0 1.333\n",
      "['奶茶']→['薯条', '可乐'] 0.25 1.0 1.333\n",
      "['奶茶', '可乐']→['薯条'] 0.25 1.0 1.333\n",
      "['奶茶', '薯条']→['可乐'] 0.25 1.0 1.0\n",
      "['薯条', '汉堡']→['可乐'] 0.25 1.0 1.0\n"
     ]
    }
   ],
   "source": [
    "# 调用 apriori() 函数\n",
    "results = apriori(orders, min_support=0.2, min_confidence=0.7)\n",
    "# 遍历结果数据\n",
    "for result in results:\n",
    "    # 获取支持度,并保留3位小数\n",
    "    support = round(result.support, 3)\n",
    "\n",
    "    # 遍历ordered_statistics对象\n",
    "    for rule in result.ordered_statistics:\n",
    "        # 获取前件和后件并转成列表\n",
    "        head_set = list(rule.items_base)\n",
    "        tail_set = list(rule.items_add)\n",
    "\n",
    "        # 跳过前件为空的数据\n",
    "        if head_set == []:\n",
    "                continue\n",
    "\n",
    "        # 将前件、后件拼接成关联规则的形式\n",
    "        related_catogory = str(head_set) + '→' + str(tail_set)\n",
    "\n",
    "        # 提取置信度，并保留3位小数\n",
    "        confidence = round(rule.confidence, 3)\n",
    "        # 提取提升度，并保留3位小数\n",
    "        lift = round(rule.lift, 3)\n",
    "\n",
    "        # 查看强关联规则，支持度，置信度，提升度\n",
    "        print(related_catogory, support, confidence, lift)"
   ]
  },
  {
   "cell_type": "code",
   "execution_count": null,
   "metadata": {},
   "outputs": [],
   "source": []
  }
 ],
 "metadata": {
  "kernelspec": {
   "display_name": "Python 3",
   "language": "python",
   "name": "python3"
  },
  "language_info": {
   "codemirror_mode": {
    "name": "ipython",
    "version": 3
   },
   "file_extension": ".py",
   "mimetype": "text/x-python",
   "name": "python",
   "nbconvert_exporter": "python",
   "pygments_lexer": "ipython3",
   "version": "3.7.10"
  }
 },
 "nbformat": 4,
 "nbformat_minor": 4
}
